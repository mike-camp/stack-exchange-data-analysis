{
 "cells": [
  {
   "cell_type": "markdown",
   "metadata": {},
   "source": [
    "# Stack Exchange Tag Prediction\n",
    "\n",
    "\n",
    "[Stack exchange](http://www.stackexchange.com) is a popular question and answer based website.  Users post and answer questions, and points are awarded for good answers based on community feedback.  There are several boards on stack exchange dedicated to specific topics such as \n",
    "* Cryptography\n",
    "* Travel\n",
    "* Physics \n",
    "* Math\n",
    "* Cooking\n",
    "\n",
    "The questions have a short title, and a longer content section where the user describes the question in more detail.  There are tags associated with each question to allow users to search through previous questions and answers.  \n",
    "\n",
    "The goal of this notebook is to create a model used to predict the tags of a question in an unseen dataset based on the title and the content.  For example, the notebook would generate a model for which words were tagged according to questions posted in the cooking board, and would use this model to then predict the tagged words for a collection of questions in travel.   The tags are not similar across datasets, so to create a prediction I will need to extract feature from the questions which are predictive across all of the datasets.   "
   ]
  },
  {
   "cell_type": "markdown",
   "metadata": {},
   "source": [
    "## Table of Contents:\n",
    "- [Getting the data](#section1)\n",
    "- [Processing the data into useful features](#section2)\n",
    "    - [Part of speech](#2.1)\n",
    "    - [Term frequency-inverse document frequency](#2.2)\n",
    "    - [Relative term frequency-inverse document frequency](#2.3)\n",
    "    - [Average term frequency-inverse document frequency](#2.4)\n",
    "- [Exploratory data analysis](#3)\n",
    "    - [Term frequency-inverse document frequency](#3.1)\n",
    "    - [Word length](#3.2)\n",
    "    - [Part of speech](#3.3)\n",
    "- [Building the model](#4)\n",
    "    - [Support vector machines](#4.1)\n",
    "    - [Stochastic Gradient Descent with Kernel approximation](#4.2)\n",
    "    - [Random forests](#4.3)\n",
    "- [Testing the model](#5)"
   ]
  },
  {
   "cell_type": "markdown",
   "metadata": {},
   "source": [
    "## Getting the data <a id='section1'></a>\n",
    "\n",
    "To download and process the data, I will use the requests library to access the stack exchange API.  The api for stack-exchange is thankfully well documented and easy to use.    The raw downloaded data is still riddled with html formatting however that needs to be taken care of.  To deal with this, I will use Beautiful Soup.   Since I will want to reuse dataframes, I will save the dataframe as a csv each time the method is called.  \n",
    "\n",
    "Although I will use the cooking stack exchange for this section, I will also download the datasets for diy, travel, and robotics for use in the future."
   ]
  },
  {
   "cell_type": "code",
   "execution_count": 1,
   "metadata": {},
   "outputs": [
    {
     "data": {
      "text/html": [
       "<div>\n",
       "<table border=\"1\" class=\"dataframe\">\n",
       "  <thead>\n",
       "    <tr style=\"text-align: right;\">\n",
       "      <th></th>\n",
       "      <th>title</th>\n",
       "      <th>content</th>\n",
       "      <th>tags</th>\n",
       "    </tr>\n",
       "  </thead>\n",
       "  <tbody>\n",
       "    <tr>\n",
       "      <th>0</th>\n",
       "      <td>What is the best temperature to roast a spatch...</td>\n",
       "      <td>From your own personal experience, what was th...</td>\n",
       "      <td>chicken, temperature, roast</td>\n",
       "    </tr>\n",
       "    <tr>\n",
       "      <th>1</th>\n",
       "      <td>Delayed Pressure Canning by 12 hours? OK? or no?</td>\n",
       "      <td>We did a batch of canning the other day. We ta...</td>\n",
       "      <td>beans, canning</td>\n",
       "    </tr>\n",
       "    <tr>\n",
       "      <th>2</th>\n",
       "      <td>Does honey have a bitter component?</td>\n",
       "      <td>I've heard Jeffrey Steingarten, on Iron Chef A...</td>\n",
       "      <td>honey</td>\n",
       "    </tr>\n",
       "    <tr>\n",
       "      <th>3</th>\n",
       "      <td>Can you cut cucambers when you make them in br...</td>\n",
       "      <td>I'm trying to make Polish style cucumbers in b...</td>\n",
       "      <td>brining, pickling, cucumbers, pickles</td>\n",
       "    </tr>\n",
       "    <tr>\n",
       "      <th>4</th>\n",
       "      <td>Flour for sauce: In the broth or in the oil?</td>\n",
       "      <td>I am an amateur cook. While I have been making...</td>\n",
       "      <td>sauce, flour, broth, roux</td>\n",
       "    </tr>\n",
       "  </tbody>\n",
       "</table>\n",
       "</div>"
      ],
      "text/plain": [
       "                                               title  \\\n",
       "0  What is the best temperature to roast a spatch...   \n",
       "1   Delayed Pressure Canning by 12 hours? OK? or no?   \n",
       "2                Does honey have a bitter component?   \n",
       "3  Can you cut cucambers when you make them in br...   \n",
       "4       Flour for sauce: In the broth or in the oil?   \n",
       "\n",
       "                                             content  \\\n",
       "0  From your own personal experience, what was th...   \n",
       "1  We did a batch of canning the other day. We ta...   \n",
       "2  I've heard Jeffrey Steingarten, on Iron Chef A...   \n",
       "3  I'm trying to make Polish style cucumbers in b...   \n",
       "4  I am an amateur cook. While I have been making...   \n",
       "\n",
       "                                    tags  \n",
       "0            chicken, temperature, roast  \n",
       "1                         beans, canning  \n",
       "2                                  honey  \n",
       "3  brining, pickling, cucumbers, pickles  \n",
       "4              sauce, flour, broth, roux  "
      ]
     },
     "execution_count": 1,
     "metadata": {},
     "output_type": "execute_result"
    }
   ],
   "source": [
    "import numpy as np\n",
    "%matplotlib inline\n",
    "import matplotlib.pyplot as plt\n",
    "import pandas as pd\n",
    "import settings\n",
    "import requests\n",
    "import json\n",
    "from bs4 import BeautifulSoup\n",
    "def construct_dataframe(subject, n, save=True,save_location=None):\n",
    "    \"\"\"Constructs a dataframe consisting of the title, and content of stack exchange\n",
    "    questions, along with the tags of each question.  \n",
    "    \n",
    "    Parameters:\n",
    "    -----------------\n",
    "    subject: String, The subject of stack exchange questions to get the answer for.  This must be a valid name of a \n",
    "             stack exchange board.   \n",
    "    n:       Int, the number of questions in the dataframe to return.   \n",
    "    save:    Boolean, whether or not to save the file as a csv upon completion\n",
    "    save_location: String, the location to save the dataframe, \n",
    "             default: None, saves the dataframe to ./subject.csv\n",
    "    \n",
    "    Returns:\n",
    "    ----------------\n",
    "    A pandas dataframe with the following columns:\n",
    "    title,\n",
    "    content,\n",
    "    tags.\n",
    "    \n",
    "    Throws:\n",
    "    -----------------\n",
    "    Exception related to errors accessing the stack exchange API, such as an invalid key.\n",
    "    \n",
    "    \"\"\"\n",
    "    df_list = list()\n",
    "    m=1\n",
    "    while n>0:\n",
    "        df = pd.DataFrame(columns=['title','content','tags'])\n",
    "        options = {'page':m,\n",
    "                   'pagesize':100 if n>100 else n,\n",
    "                   'site':subject,\n",
    "                   'key':settings.API_KEY,\n",
    "                   'filter':'withbody',\n",
    "                   'order':'desc',\n",
    "                   'sort':'activity'}\n",
    "        \n",
    "        url = 'https://api.stackexchange.com/2.2/questions?'\n",
    "        for key in options:\n",
    "            url+=key+'='+str(options[key])+'&'\n",
    "        url = url[:-1]\n",
    "        req = requests.get(url)\n",
    "        req = json.loads(req.text)\n",
    "        if 'error_message' in req.keys():\n",
    "            raise Exception(req['error_message'])\n",
    "        df= pd.DataFrame(map(lambda x:[x['title'],x['body'],', '.join(x['tags'])],req['items']),\\\n",
    "                         columns=['title','content','tags'])\n",
    "        df_list.append(df)\n",
    "        n-=100\n",
    "        m+=1\n",
    "    df = pd.concat(df_list)\n",
    "    df['content']= df['content'].map(lambda x: BeautifulSoup(x,'html.parser').get_text())\n",
    "    df['title']=df['title'].map(lambda x: BeautifulSoup(x,'html.parser').get_text())\n",
    "    df.reset_index(drop=True,inplace=True)\n",
    "    if save:\n",
    "        if save_location is None:\n",
    "            save_location = './data/{}.csv'.format(subject)\n",
    "        df.to_csv(save_location,encoding='utf-8',index=False)\n",
    "    return df\n",
    "df_cooking = construct_dataframe('cooking',3000)\n",
    "#Save the robotics, diy, and travel datasets as csv's \n",
    "construct_dataframe('robotics',3000)\n",
    "construct_dataframe('diy',3000)\n",
    "construct_dataframe('travel',3000)\n",
    "df_cooking.head()"
   ]
  },
  {
   "cell_type": "markdown",
   "metadata": {},
   "source": [
    "## Processing the data into useful features <a id='section2'></a>\n",
    "\n",
    "We also will need to convert the title and content from a series of words, into a series of meaningful features.   To do this we will associate each word with a part of speech, i.e. a noun, pronoun, verb, adverb, etc, using the NLTK library.  We will also find the term frequency-inverse document frequencies of each word, which helps to measure how \"important\" a word is.   We will also notice that the word length is mildly predictive of how often a word occurs.  "
   ]
  },
  {
   "cell_type": "markdown",
   "metadata": {},
   "source": [
    "### Part of speech <a id='2.1'></a>\n",
    "\n",
    "Looking at the tags, we can notice that most of the tags are nouns (ie vegetables, curry) or verbs.  Because of this, we will wan't to keep track of all parts of speech as one of our features.  To do this, we will use the natural language toolkit, an opensource python library designed for processing text and language.    \n",
    "\n",
    "To store this information, we will create a dataframe for every question in our cooking dataframe which stores every unique word (minus stop words) and their corresponding part of speech.  "
   ]
  },
  {
   "cell_type": "code",
   "execution_count": 2,
   "metadata": {},
   "outputs": [
    {
     "data": {
      "text/html": [
       "<div>\n",
       "<table border=\"1\" class=\"dataframe\">\n",
       "  <thead>\n",
       "    <tr style=\"text-align: right;\">\n",
       "      <th></th>\n",
       "      <th>term</th>\n",
       "      <th>pos</th>\n",
       "    </tr>\n",
       "  </thead>\n",
       "  <tbody>\n",
       "    <tr>\n",
       "      <th>3</th>\n",
       "      <td>personal</td>\n",
       "      <td>JJ</td>\n",
       "    </tr>\n",
       "    <tr>\n",
       "      <th>4</th>\n",
       "      <td>experience</td>\n",
       "      <td>NN</td>\n",
       "    </tr>\n",
       "    <tr>\n",
       "      <th>8</th>\n",
       "      <td>best</td>\n",
       "      <td>JJS</td>\n",
       "    </tr>\n",
       "    <tr>\n",
       "      <th>9</th>\n",
       "      <td>temperature</td>\n",
       "      <td>NN</td>\n",
       "    </tr>\n",
       "    <tr>\n",
       "      <th>11</th>\n",
       "      <td>time</td>\n",
       "      <td>NN</td>\n",
       "    </tr>\n",
       "    <tr>\n",
       "      <th>13</th>\n",
       "      <td>took</td>\n",
       "      <td>VBD</td>\n",
       "    </tr>\n",
       "    <tr>\n",
       "      <th>15</th>\n",
       "      <td>roast</td>\n",
       "      <td>VB</td>\n",
       "    </tr>\n",
       "    <tr>\n",
       "      <th>17</th>\n",
       "      <td>whole</td>\n",
       "      <td>JJ</td>\n",
       "    </tr>\n",
       "    <tr>\n",
       "      <th>18</th>\n",
       "      <td>chicken</td>\n",
       "      <td>NN</td>\n",
       "    </tr>\n",
       "    <tr>\n",
       "      <th>21</th>\n",
       "      <td>oven</td>\n",
       "      <td>JJ</td>\n",
       "    </tr>\n",
       "  </tbody>\n",
       "</table>\n",
       "</div>"
      ],
      "text/plain": [
       "           term  pos\n",
       "3      personal   JJ\n",
       "4    experience   NN\n",
       "8          best  JJS\n",
       "9   temperature   NN\n",
       "11         time   NN\n",
       "13         took  VBD\n",
       "15        roast   VB\n",
       "17        whole   JJ\n",
       "18      chicken   NN\n",
       "21         oven   JJ"
      ]
     },
     "execution_count": 2,
     "metadata": {},
     "output_type": "execute_result"
    }
   ],
   "source": [
    "import nltk\n",
    "import re\n",
    "def create_word_dataframe(words):\n",
    "    \"\"\"Given string containing several words, returns a dataframe\n",
    "    containing the words matched to their part of speech.  \n",
    "    \n",
    "    Parameters:\n",
    "    --------------\n",
    "    words: str, The title and content of the post added together\n",
    "    \n",
    "    Returns:\n",
    "    --------------\n",
    "    pandas DataFrame containing each term and pos.\n",
    "    \"\"\"\n",
    "    words = re.sub(r'[^a-z\\s-]','',words.lower())\n",
    "    pos = nltk.pos_tag([word.lower() for word in re.split(r'\\s+',words.lower())\n",
    "                            if word])\n",
    "    df = pd.DataFrame(pos,columns=['term','pos']).drop_duplicates()\n",
    "    return df[df.term.map(lambda x: not x in nltk.corpus.stopwords.words('english'))]\n",
    "df_cooking['terms'] = df_cooking[['content','title']].apply(lambda x: x[0]+x[1],axis=1)\\\n",
    "                                                            .map(create_word_dataframe)\n",
    "df_cooking['terms'][0].head(10)"
   ]
  },
  {
   "cell_type": "markdown",
   "metadata": {},
   "source": [
    "### Term Frequency-Inverse Document Frequency <a id='2.2'></a>\n",
    "\n",
    "Given a collection of documents, the term frequency is the frequency of which a term appears in document.  If a word appears multiple times in the content section, then it is likely to be important.  So a measure of the importance of the word might be it's term frequency.  The document frequency is how often the term appears in all of the documents.  If a word appears in every document in the corpus (for example \"the\"), then the term is unlikely to be important in distinguesing documents.  The term frequency/inverse document frequency (TFIDF) is the ratio of the term frequency devided by the document frequency.  This means it weights highly words which appear often in one document, but not other documents, and weights words which appear in every document lower.   To find this, we will use the sklearn package TfidfVectorizer.  \n",
    "\n",
    "The precise definition of tf-idf as implemented by the sklearn tf-idf transformer is as follows.  Let $tf(t,d)$ be the number of times term $t$ appears in document $d$, $n_d$ be the number of documents in the corpus, and $df(t)$ be the number of documents containing term $t$, then tf-idf$(t)$ is given by $$\\text{tf-idf}(t,d) = tf(t,d)\\left( log\\left(\\frac{1+n_d}{1+df(t)}\\right) +1\\right) $$\n"
   ]
  },
  {
   "cell_type": "code",
   "execution_count": 3,
   "metadata": {},
   "outputs": [
    {
     "data": {
      "text/html": [
       "<div>\n",
       "<table border=\"1\" class=\"dataframe\">\n",
       "  <thead>\n",
       "    <tr style=\"text-align: right;\">\n",
       "      <th></th>\n",
       "      <th>term</th>\n",
       "      <th>pos</th>\n",
       "      <th>content_tfidf</th>\n",
       "      <th>word_length</th>\n",
       "      <th>title_tfidf</th>\n",
       "    </tr>\n",
       "  </thead>\n",
       "  <tbody>\n",
       "    <tr>\n",
       "      <th>3</th>\n",
       "      <td>batch</td>\n",
       "      <td>NN</td>\n",
       "      <td>0.182619</td>\n",
       "      <td>5</td>\n",
       "      <td>0.000000</td>\n",
       "    </tr>\n",
       "    <tr>\n",
       "      <th>5</th>\n",
       "      <td>canning</td>\n",
       "      <td>VBG</td>\n",
       "      <td>0.254127</td>\n",
       "      <td>7</td>\n",
       "      <td>0.486917</td>\n",
       "    </tr>\n",
       "    <tr>\n",
       "      <th>8</th>\n",
       "      <td>day</td>\n",
       "      <td>NN</td>\n",
       "      <td>0.046471</td>\n",
       "      <td>3</td>\n",
       "      <td>0.000000</td>\n",
       "    </tr>\n",
       "    <tr>\n",
       "      <th>10</th>\n",
       "      <td>take</td>\n",
       "      <td>VBP</td>\n",
       "      <td>0.198951</td>\n",
       "      <td>4</td>\n",
       "      <td>0.000000</td>\n",
       "    </tr>\n",
       "    <tr>\n",
       "      <th>12</th>\n",
       "      <td>beans</td>\n",
       "      <td>NNS</td>\n",
       "      <td>0.127762</td>\n",
       "      <td>5</td>\n",
       "      <td>0.000000</td>\n",
       "    </tr>\n",
       "    <tr>\n",
       "      <th>14</th>\n",
       "      <td>blanch</td>\n",
       "      <td>VB</td>\n",
       "      <td>0.095980</td>\n",
       "      <td>6</td>\n",
       "      <td>0.000000</td>\n",
       "    </tr>\n",
       "    <tr>\n",
       "      <th>17</th>\n",
       "      <td>let</td>\n",
       "      <td>VB</td>\n",
       "      <td>0.151109</td>\n",
       "      <td>3</td>\n",
       "      <td>0.000000</td>\n",
       "    </tr>\n",
       "    <tr>\n",
       "      <th>19</th>\n",
       "      <td>cool</td>\n",
       "      <td>VB</td>\n",
       "      <td>0.113621</td>\n",
       "      <td>4</td>\n",
       "      <td>0.000000</td>\n",
       "    </tr>\n",
       "    <tr>\n",
       "      <th>24</th>\n",
       "      <td>mason</td>\n",
       "      <td>NN</td>\n",
       "      <td>0.095980</td>\n",
       "      <td>5</td>\n",
       "      <td>0.000000</td>\n",
       "    </tr>\n",
       "    <tr>\n",
       "      <th>25</th>\n",
       "      <td>jars</td>\n",
       "      <td>NNS</td>\n",
       "      <td>0.262291</td>\n",
       "      <td>4</td>\n",
       "      <td>0.000000</td>\n",
       "    </tr>\n",
       "  </tbody>\n",
       "</table>\n",
       "</div>"
      ],
      "text/plain": [
       "       term  pos  content_tfidf  word_length  title_tfidf\n",
       "3     batch   NN       0.182619            5     0.000000\n",
       "5   canning  VBG       0.254127            7     0.486917\n",
       "8       day   NN       0.046471            3     0.000000\n",
       "10     take  VBP       0.198951            4     0.000000\n",
       "12    beans  NNS       0.127762            5     0.000000\n",
       "14   blanch   VB       0.095980            6     0.000000\n",
       "17      let   VB       0.151109            3     0.000000\n",
       "19     cool   VB       0.113621            4     0.000000\n",
       "24    mason   NN       0.095980            5     0.000000\n",
       "25     jars  NNS       0.262291            4     0.000000"
      ]
     },
     "execution_count": 3,
     "metadata": {},
     "output_type": "execute_result"
    }
   ],
   "source": [
    "from sklearn.feature_extraction.text import TfidfVectorizer\n",
    "\n",
    "def create_tfidf(df,column_name):\n",
    "    \"\"\"Given a column, computes the tfidf values associated with \n",
    "    this column and then adds this as a column to the terms dataframe.  \n",
    "    \n",
    "    Parameters:\n",
    "    --------------\n",
    "    df:          pandas dataframe with columns \n",
    "                 column_name, and terms.  \n",
    "    column_name: str, the name of the column in the\n",
    "                 dataframe for which to calculate\n",
    "                 the tfidf values.  \n",
    "    \"\"\"\n",
    "    def port_tokenizer(x):\n",
    "        x = re.sub(r'\\'','',x)\n",
    "        words = re.split(r'[^a-zA-Z-]+',x)\n",
    "        ps = nltk.porter.PorterStemmer()\n",
    "        words = [ps.stem(word) for word in words if not word in nltk.corpus.stopwords.words('english')\\\n",
    "                 and word]\n",
    "        return words\n",
    "    def create_tfidf_column(dict_,df):\n",
    "        ps = nltk.porter.PorterStemmer()\n",
    "        df[column_name+'_tfidf'] = df['term'].map(lambda x: dict_.get(ps.stem(x),0))\n",
    "    def add_length_column(df):\n",
    "        df['word_length'] = df['term'].map(lambda x: len(x))\n",
    "    tfidf = TfidfVectorizer(tokenizer = port_tokenizer)\n",
    "    vals = tfidf.fit_transform(df[column_name])\n",
    "    feat_names = tfidf.get_feature_names()\n",
    "    df['dict'] = pd.Series([{name:val for name, val in \n",
    "                                    zip(feat_names,vals.toarray()[i,:]) \n",
    "                                    if val!=0} for i in range(vals.shape[0])])\n",
    "    df[['dict','terms']].apply(lambda x:create_tfidf_column(*x),axis=1)\n",
    "    df['terms'].map(lambda x: add_length_column(x))\n",
    "df_cooking.reset_index(inplace=True,drop=True)\n",
    "create_tfidf(df_cooking,'content')\n",
    "create_tfidf(df_cooking,'title')\n",
    "df_cooking['terms'][1].head(10)"
   ]
  },
  {
   "cell_type": "markdown",
   "metadata": {},
   "source": [
    "### TF-IDF ranks <a id='2.3'></a>\n",
    "Another possibly useful quantity is the rank of the tfidf in terms of all of the tfidf values in the document.  If all of the words in a question have low tf-idf scores, then by just using the tfidf values we might predict that there are no tags.  Thus a possibly useful measure of how important a terms is, is not just the absolute tfidf value, but how the tfidf value ranks in terms of all of the tfidf values in a question. \n",
    "\n",
    "We will also at this point create a column indicating whether or not a word was tagged.   "
   ]
  },
  {
   "cell_type": "code",
   "execution_count": 4,
   "metadata": {},
   "outputs": [
    {
     "data": {
      "text/html": [
       "<div>\n",
       "<table border=\"1\" class=\"dataframe\">\n",
       "  <thead>\n",
       "    <tr style=\"text-align: right;\">\n",
       "      <th></th>\n",
       "      <th>term</th>\n",
       "      <th>pos</th>\n",
       "      <th>content_tfidf</th>\n",
       "      <th>word_length</th>\n",
       "      <th>title_tfidf</th>\n",
       "      <th>content_tfidf_ranks</th>\n",
       "      <th>title_tfidf_ranks</th>\n",
       "      <th>total_terms</th>\n",
       "      <th>tagged</th>\n",
       "    </tr>\n",
       "  </thead>\n",
       "  <tbody>\n",
       "    <tr>\n",
       "      <th>1</th>\n",
       "      <td>saw</td>\n",
       "      <td>VBD</td>\n",
       "      <td>0.216607</td>\n",
       "      <td>3</td>\n",
       "      <td>0.000000</td>\n",
       "      <td>9</td>\n",
       "      <td>19</td>\n",
       "      <td>19</td>\n",
       "      <td>False</td>\n",
       "    </tr>\n",
       "    <tr>\n",
       "      <th>2</th>\n",
       "      <td>somewhere</td>\n",
       "      <td>RB</td>\n",
       "      <td>0.240959</td>\n",
       "      <td>9</td>\n",
       "      <td>0.000000</td>\n",
       "      <td>7</td>\n",
       "      <td>19</td>\n",
       "      <td>19</td>\n",
       "      <td>False</td>\n",
       "    </tr>\n",
       "    <tr>\n",
       "      <th>4</th>\n",
       "      <td>recipe</td>\n",
       "      <td>NN</td>\n",
       "      <td>0.100433</td>\n",
       "      <td>6</td>\n",
       "      <td>0.000000</td>\n",
       "      <td>18</td>\n",
       "      <td>19</td>\n",
       "      <td>19</td>\n",
       "      <td>False</td>\n",
       "    </tr>\n",
       "    <tr>\n",
       "      <th>6</th>\n",
       "      <td>using</td>\n",
       "      <td>VBG</td>\n",
       "      <td>0.155731</td>\n",
       "      <td>5</td>\n",
       "      <td>0.332583</td>\n",
       "      <td>15</td>\n",
       "      <td>4</td>\n",
       "      <td>19</td>\n",
       "      <td>False</td>\n",
       "    </tr>\n",
       "    <tr>\n",
       "      <th>7</th>\n",
       "      <td>souse</td>\n",
       "      <td>NN</td>\n",
       "      <td>0.338630</td>\n",
       "      <td>5</td>\n",
       "      <td>0.000000</td>\n",
       "      <td>3</td>\n",
       "      <td>19</td>\n",
       "      <td>19</td>\n",
       "      <td>False</td>\n",
       "    </tr>\n",
       "  </tbody>\n",
       "</table>\n",
       "</div>"
      ],
      "text/plain": [
       "        term  pos  content_tfidf  word_length  title_tfidf  \\\n",
       "1        saw  VBD       0.216607            3     0.000000   \n",
       "2  somewhere   RB       0.240959            9     0.000000   \n",
       "4     recipe   NN       0.100433            6     0.000000   \n",
       "6      using  VBG       0.155731            5     0.332583   \n",
       "7      souse   NN       0.338630            5     0.000000   \n",
       "\n",
       "   content_tfidf_ranks  title_tfidf_ranks  total_terms tagged  \n",
       "1                    9                 19           19  False  \n",
       "2                    7                 19           19  False  \n",
       "4                   18                 19           19  False  \n",
       "6                   15                  4           19  False  \n",
       "7                    3                 19           19  False  "
      ]
     },
     "execution_count": 4,
     "metadata": {},
     "output_type": "execute_result"
    }
   ],
   "source": [
    "def find_ranks(df):\n",
    "    \"\"\"adds the ranks of all of the tfidf values, along with the \n",
    "    total number of entries\n",
    "    \"\"\"\n",
    "    df['content_tfidf_ranks'] = df['content_tfidf'].map(lambda x: (df.content_tfidf>=x).sum())\n",
    "    df['title_tfidf_ranks'] = df['title_tfidf'].map(lambda x: (df.title_tfidf>=x).sum())\n",
    "    df['total_terms'] = df.shape[0]\n",
    "def add_tags(df,tags):\n",
    "    \"\"\"adds a column to the dataframe consisting whether or \n",
    "    not the terms are in the tags \"\"\"\n",
    "    tagset = set(tags.split(' '))\n",
    "    df['tagged'] = df['term'].map(lambda term: term in tagset)\n",
    "df_cooking['terms'].map(find_ranks)\n",
    "df_cooking[['terms','tags']].apply(lambda x: add_tags(*x),axis=1)\n",
    "df_cooking['terms'][100].head()"
   ]
  },
  {
   "cell_type": "markdown",
   "metadata": {},
   "source": [
    "### Average tf-idf values <a id = '2.4'></a>\n",
    "There are still a couple of useful features we can extract.   We can notice that the total number of tags increases much slower then the number of entries, indicating that each tag are reused several times.   So there exists a much smaller set of tagged words in the entire corpus.  We want some way to distinguesh these tagged words from the rest of the corpus.  \n",
    "\n",
    "A useful measure is the average tfidf values of the word.   If a word is tagged often, then when it appears, it most likely has a high tfidf value each time.  Hence the tagged words should tend to have higher average tfidf values then untagged words.   "
   ]
  },
  {
   "cell_type": "code",
   "execution_count": 5,
   "metadata": {
    "scrolled": false
   },
   "outputs": [
    {
     "data": {
      "image/png": "[encoded data removed]",
      "text/plain": [
       "<matplotlib.figure.Figure at 0x16c9d4a8>"
      ]
     },
     "metadata": {},
     "output_type": "display_data"
    }
   ],
   "source": [
    "def find_total_tags(series,n):\n",
    "    tag_set = set()\n",
    "    for tags in series[:n]:\n",
    "        for tag in tags.split(' '):\n",
    "            tag_set.add(tag)\n",
    "    return len(tag_set)\n",
    "labels = ['travel','diy','robotics','cooking']\n",
    "rows,columns = 2,2\n",
    "f, ax = plt.subplots(rows,columns)\n",
    "for m,label in enumerate(labels):\n",
    "    df = pd.read_csv('./data/{}.csv'.format(label))\n",
    "    x_c = range(1,len(df['tags']),10)\n",
    "    y_c = map(lambda n: find_total_tags(df['tags'],n),x_c)\n",
    "    i = m/columns\n",
    "    j = m%columns - m/columns\n",
    "    ax[i][j].plot(x_c,y_c)\n",
    "    ax[i][j].set_title(label)\n",
    "    ax[i][j].set_xlabel('no entries')\n",
    "    ax[i][j].set_ylabel('no tags')\n",
    "f.subplots_adjust(wspace=.5,hspace=.4,right = 1.2,top=1.8)\n",
    "f.suptitle('number of tags vs number of entries',fontsize=14,y=2,x=.6)\n",
    "plt.show()"
   ]
  },
  {
   "cell_type": "code",
   "execution_count": 6,
   "metadata": {
    "collapsed": true
   },
   "outputs": [],
   "source": [
    "cooking_data = pd.concat(df_cooking['terms'].values,ignore_index=True)\n",
    "cooking_data_mean = cooking_data.groupby(['term'])[['content_tfidf','title_tfidf']].mean()\n",
    "cooking_data_mean.columns=['global_content_tfidf','global_title_tfidf']\n",
    "cooking_data = cooking_data.merge(cooking_data_mean,how='inner',left_on='term',right_index=True)"
   ]
  },
  {
   "cell_type": "code",
   "execution_count": 7,
   "metadata": {},
   "outputs": [
    {
     "name": "stdout",
     "output_type": "stream",
     "text": [
      "tagged terms average title-tfidf values: 0.398+/-0.207\n",
      "untagged terms average title-tfidf values: 0.068+/-0.163\n"
     ]
    }
   ],
   "source": [
    "tagged_mean = cooking_data[cooking_data['tagged']]['title_tfidf'].mean()\n",
    "tagged_std = cooking_data[cooking_data['tagged']]['title_tfidf'].std()\n",
    "untagged_mean = cooking_data[~cooking_data['tagged']]['title_tfidf'].mean()\n",
    "untagged_std = cooking_data[~cooking_data['tagged']]['title_tfidf'].std()\n",
    "print 'tagged terms average title-tfidf values: %.3f+/-%.3f'%(tagged_mean,tagged_std)\n",
    "print 'untagged terms average title-tfidf values: %.3f+/-%.3f'%(untagged_mean,untagged_std)"
   ]
  },
  {
   "cell_type": "markdown",
   "metadata": {},
   "source": [
    "#### Combining the operations\n",
    "Now that we have came up with a list of features we want, lets put all of these transformations in one function that can be easily applied to any of the six dataframes we are analyzing."
   ]
  },
  {
   "cell_type": "code",
   "execution_count": 8,
   "metadata": {},
   "outputs": [
    {
     "data": {
      "text/html": [
       "<div>\n",
       "<table border=\"1\" class=\"dataframe\">\n",
       "  <thead>\n",
       "    <tr style=\"text-align: right;\">\n",
       "      <th></th>\n",
       "      <th>term</th>\n",
       "      <th>pos</th>\n",
       "      <th>content_tfidf</th>\n",
       "      <th>word_length</th>\n",
       "      <th>title_tfidf</th>\n",
       "      <th>content_tfidf_ranks</th>\n",
       "      <th>title_tfidf_ranks</th>\n",
       "      <th>total_terms</th>\n",
       "      <th>tagged</th>\n",
       "      <th>original_index</th>\n",
       "      <th>global_content_tfidf</th>\n",
       "      <th>global_title_tfidf</th>\n",
       "    </tr>\n",
       "  </thead>\n",
       "  <tbody>\n",
       "    <tr>\n",
       "      <th>0</th>\n",
       "      <td>trying</td>\n",
       "      <td>VBG</td>\n",
       "      <td>0.136466</td>\n",
       "      <td>6</td>\n",
       "      <td>0.0</td>\n",
       "      <td>20</td>\n",
       "      <td>87</td>\n",
       "      <td>87</td>\n",
       "      <td>False</td>\n",
       "      <td>0</td>\n",
       "      <td>0.058155</td>\n",
       "      <td>0.002851</td>\n",
       "    </tr>\n",
       "    <tr>\n",
       "      <th>1</th>\n",
       "      <td>build</td>\n",
       "      <td>VB</td>\n",
       "      <td>0.058474</td>\n",
       "      <td>5</td>\n",
       "      <td>0.0</td>\n",
       "      <td>65</td>\n",
       "      <td>87</td>\n",
       "      <td>87</td>\n",
       "      <td>False</td>\n",
       "      <td>0</td>\n",
       "      <td>0.086654</td>\n",
       "      <td>0.049320</td>\n",
       "    </tr>\n",
       "    <tr>\n",
       "      <th>2</th>\n",
       "      <td>robotic</td>\n",
       "      <td>JJ</td>\n",
       "      <td>0.033934</td>\n",
       "      <td>7</td>\n",
       "      <td>0.0</td>\n",
       "      <td>75</td>\n",
       "      <td>87</td>\n",
       "      <td>87</td>\n",
       "      <td>False</td>\n",
       "      <td>0</td>\n",
       "      <td>0.091710</td>\n",
       "      <td>0.124021</td>\n",
       "    </tr>\n",
       "    <tr>\n",
       "      <th>3</th>\n",
       "      <td>platform</td>\n",
       "      <td>NN</td>\n",
       "      <td>0.087774</td>\n",
       "      <td>8</td>\n",
       "      <td>0.0</td>\n",
       "      <td>38</td>\n",
       "      <td>87</td>\n",
       "      <td>87</td>\n",
       "      <td>False</td>\n",
       "      <td>0</td>\n",
       "      <td>0.142413</td>\n",
       "      <td>0.055978</td>\n",
       "    </tr>\n",
       "    <tr>\n",
       "      <th>4</th>\n",
       "      <td>kind</td>\n",
       "      <td>NN</td>\n",
       "      <td>0.072662</td>\n",
       "      <td>4</td>\n",
       "      <td>0.0</td>\n",
       "      <td>54</td>\n",
       "      <td>87</td>\n",
       "      <td>87</td>\n",
       "      <td>False</td>\n",
       "      <td>0</td>\n",
       "      <td>0.085097</td>\n",
       "      <td>0.023851</td>\n",
       "    </tr>\n",
       "  </tbody>\n",
       "</table>\n",
       "</div>"
      ],
      "text/plain": [
       "       term  pos  content_tfidf  word_length  title_tfidf  \\\n",
       "0    trying  VBG       0.136466            6          0.0   \n",
       "1     build   VB       0.058474            5          0.0   \n",
       "2   robotic   JJ       0.033934            7          0.0   \n",
       "3  platform   NN       0.087774            8          0.0   \n",
       "4      kind   NN       0.072662            4          0.0   \n",
       "\n",
       "   content_tfidf_ranks  title_tfidf_ranks  total_terms tagged  original_index  \\\n",
       "0                   20                 87           87  False               0   \n",
       "1                   65                 87           87  False               0   \n",
       "2                   75                 87           87  False               0   \n",
       "3                   38                 87           87  False               0   \n",
       "4                   54                 87           87  False               0   \n",
       "\n",
       "   global_content_tfidf  global_title_tfidf  \n",
       "0              0.058155            0.002851  \n",
       "1              0.086654            0.049320  \n",
       "2              0.091710            0.124021  \n",
       "3              0.142413            0.055978  \n",
       "4              0.085097            0.023851  "
      ]
     },
     "execution_count": 8,
     "metadata": {},
     "output_type": "execute_result"
    }
   ],
   "source": [
    "def format_dataframe(df,filter_=False):\n",
    "    \"\"\"Processes a raw dataframe with title, content, and pos \n",
    "    columns into a dataframe of useful features.\n",
    "    \n",
    "    Parameters:\n",
    "    ---------------\n",
    "    df: input dataframe, must have the three columns: title,content,tagged\n",
    "    filter_: Boolean, whether or not to include the terms with zero content\n",
    "             and title tfidf.   \n",
    "    \n",
    "    Returns:\n",
    "    ---------------\n",
    "    A pandas dataframe consisting of the following columns\n",
    "    term:\n",
    "    title_tfidf:\n",
    "    content_tfidf:\n",
    "    pos:\n",
    "    word_length:\n",
    "    original_index:\n",
    "    \"\"\"\n",
    "    #create term datasets\n",
    "    df['terms'] = df[['content','title']].apply(lambda x: x[0]+x[1],axis=1)\\\n",
    "                                                    .map(create_word_dataframe)\n",
    "    #drop the index which can screw up the create_tfidf function\n",
    "    df = df.reset_index(inplace=False,drop=True)\n",
    "    # find tfidf values for each word in title and content\n",
    "    create_tfidf(df,'content')\n",
    "    create_tfidf(df,'title')\n",
    "    #find the ranks of the tfidf values for each entry\n",
    "    df['terms'].map(find_ranks)\n",
    "    #add a row consisting of whether or not the words are present in the tags\n",
    "    df[['terms','tags']].apply(lambda x: add_tags(*x),axis=1)\n",
    "    #Add in the original index so we can reference this later\n",
    "    def add_original_index(index,dataframe):\n",
    "        dataframe['original_index']=index\n",
    "    df['index'] = df.index\n",
    "    df[['index','terms']].apply(lambda x: add_original_index(*x),axis=1)\n",
    "    #Now that we have found the relevent data for each row, extract this\n",
    "    data = pd.concat(df['terms'].values,ignore_index=True)\n",
    "    #Add word lengths\n",
    "    data['word_length'] = data['term'].map(lambda x:len(x))\n",
    "    #Find the average tfidf of each term for title and content\n",
    "    data_mean = data.groupby(['term'])[['content_tfidf','title_tfidf']].mean()\n",
    "    data_mean.columns=['global_content_tfidf','global_title_tfidf']\n",
    "    data = data.merge(data_mean,how='inner',left_on='term',right_index=True)\n",
    "    #filter out terms with zero data and discard them\n",
    "    if filter_:\n",
    "        data = data[(data['title_tfidf']!=0)&(data['content_tfidf']!=0)]\n",
    "    return data.sort_index()\n",
    "df_robotics = pd.read_csv('./data/robotics.csv')\n",
    "data = format_dataframe(df_robotics)\n",
    "data.head()"
   ]
  },
  {
   "cell_type": "markdown",
   "metadata": {},
   "source": [
    "## Exploratory Data Analysis: <a id='3'></a>\n",
    "\n",
    "### TF-IDF <a id='3.1'></a>\n",
    "At this point, we have processed each stack exchange entry into a useful set of features.  Now, lets do some exploratory data analysis to see the relationship between content tfidf, title_tfidf, and the tfidf ranks.  Since there's many more untagged points, we will limit the number of untagged points we plot to be roughly equal to the amount of tagged points "
   ]
  },
  {
   "cell_type": "code",
   "execution_count": 9,
   "metadata": {},
   "outputs": [
    {
     "data": {
      "image/png": "[encoded data removed]",
      "text/plain": [
       "<matplotlib.figure.Figure at 0x1929a898>"
      ]
     },
     "metadata": {},
     "output_type": "display_data"
    }
   ],
   "source": [
    "terms =data[:4000]\n",
    "f, ax = plt.subplots(2,2)\n",
    "no_tagged_terms = terms['tagged'].sum()\n",
    "ax[0][0].scatter(terms[terms['tagged']]['content_tfidf'],terms[terms['tagged']]['title_tfidf'],\n",
    "              c = 'r', label = 'tagged',marker='^')\n",
    "ax[0][0].scatter(terms[~terms['tagged']]['content_tfidf'][:no_tagged_terms],\n",
    "              terms[~terms['tagged']]['title_tfidf'][:no_tagged_terms],c='b',label='untagged')\n",
    "ax[0][0].legend(loc='upper left')\n",
    "ax[0][0].set_xlabel('content_tfidf')\n",
    "ax[0][0].set_ylabel('title_tfidf')\n",
    "# f.title('Term frequency/inverse document frequency')\n",
    "ax[0][1].scatter(terms[terms['tagged']]['content_tfidf_ranks'],terms[terms['tagged']]['title_tfidf_ranks'],\n",
    "              c='r',label='tagged',marker='^')\n",
    "ax[0][1].scatter(terms[~terms['tagged']]['content_tfidf_ranks'][:no_tagged_terms],\n",
    "              terms[~terms['tagged']]['title_tfidf_ranks'][:no_tagged_terms],c='b',label='untagged',marker='o')\n",
    "ax[0][1].set_ylabel('title_tfidf_rank')\n",
    "ax[0][1].set_xlabel('content_tfidf_rank')\n",
    "ax[0][1].legend(loc='upper left')\n",
    "ax[1][0].scatter(terms[terms['tagged']]['global_content_tfidf'],terms[terms['tagged']]['global_title_tfidf'],\n",
    "              c = 'r', label = 'tagged',marker='^')\n",
    "ax[1][0].scatter(terms[~terms['tagged']]['global_content_tfidf'][:no_tagged_terms],\n",
    "              terms[~terms['tagged']]['global_title_tfidf'][:no_tagged_terms],c='b',label='untagged')\n",
    "ax[1][0].legend(loc='upper left')\n",
    "ax[1][0].set_xlabel('global_content_tfidf')\n",
    "ax[1][0].set_ylabel('global_title_tfidf')\n",
    "f.subplots_adjust(wspace=.4,right=1.5,top=1.5)\n",
    "plt.show()"
   ]
  },
  {
   "cell_type": "markdown",
   "metadata": {},
   "source": [
    "From this we see that the terms which have a title or content tfidf of zero are very unlikely to be tagged, hence we can exclude them from consideration by simply cutting them off.   "
   ]
  },
  {
   "cell_type": "code",
   "execution_count": 10,
   "metadata": {},
   "outputs": [
    {
     "data": {
      "image/png": "[encoded data removed]",
      "text/plain": [
       "<matplotlib.figure.Figure at 0x1929ac50>"
      ]
     },
     "metadata": {},
     "output_type": "display_data"
    }
   ],
   "source": [
    "data_nzero = data[(data['content_tfidf']!=0)&(data['title_tfidf']!=0)]\n",
    "terms =data_nzero[:4000]\n",
    "f, ax = plt.subplots(2,2)\n",
    "no_tagged_terms = terms['tagged'].sum()\n",
    "ax[0][0].scatter(terms[terms['tagged']]['content_tfidf'],terms[terms['tagged']]['title_tfidf'],\n",
    "              c = 'r', label = 'tagged',marker='^')\n",
    "ax[0][0].scatter(terms[~terms['tagged']]['content_tfidf'][:no_tagged_terms],\n",
    "              terms[~terms['tagged']]['title_tfidf'][:no_tagged_terms],c='b',label='untagged')\n",
    "ax[0][0].legend(loc='upper left')\n",
    "ax[0][0].set_xlabel('content_tfidf')\n",
    "ax[0][0].set_ylabel('title_tfidf')\n",
    "# f.title('Term frequency/inverse document frequency')\n",
    "ax[0][1].scatter(terms[terms['tagged']]['content_tfidf_ranks'],terms[terms['tagged']]['title_tfidf_ranks'],\n",
    "              c='r',label='tagged',marker='^')\n",
    "ax[0][1].scatter(terms[~terms['tagged']]['content_tfidf_ranks'][:no_tagged_terms],\n",
    "              terms[~terms['tagged']]['title_tfidf_ranks'][:no_tagged_terms],c='b',label='untagged',marker='o')\n",
    "ax[0][1].set_ylabel('title_tfidf_rank')\n",
    "ax[0][1].set_xlabel('content_tfidf_rank')\n",
    "ax[0][1].legend(loc='upper left')\n",
    "ax[1][0].scatter(terms[terms['tagged']]['global_content_tfidf'],terms[terms['tagged']]['global_title_tfidf'],\n",
    "              c = 'r', label = 'tagged',marker='^')\n",
    "ax[1][0].scatter(terms[~terms['tagged']]['global_content_tfidf'][:no_tagged_terms],\n",
    "              terms[~terms['tagged']]['global_title_tfidf'][:no_tagged_terms],c='b',label='untagged')\n",
    "ax[1][0].legend(loc='upper left')\n",
    "ax[1][0].set_xlabel('global_content_tfidf')\n",
    "ax[1][0].set_ylabel('global_title_tfidf')\n",
    "f.subplots_adjust(wspace=.4,right=1.5,top=1.5)\n",
    "plt.show()"
   ]
  },
  {
   "cell_type": "markdown",
   "metadata": {},
   "source": [
    "### Word length <a id='3.2'></a>\n",
    "\n",
    "We might find that the word length is also somewhat predictive of a word being tagged or not.  The longer a word is, the higher probability it has of being tagged.   We can see for all of the words, the probability that a word is tagged tends to increase with length, with the exception of words with three letters which tend to be acronyms and are slightly more likely to be tagged."
   ]
  },
  {
   "cell_type": "code",
   "execution_count": 11,
   "metadata": {
    "scrolled": false
   },
   "outputs": [
    {
     "name": "stderr",
     "output_type": "stream",
     "text": [
      "C:\\Users\\Michael\\Anaconda3\\envs\\python_27\\lib\\site-packages\\ipykernel\\__main__.py:22: SettingWithCopyWarning: \n",
      "A value is trying to be set on a copy of a slice from a DataFrame.\n",
      "Try using .loc[row_indexer,col_indexer] = value instead\n",
      "\n",
      "See the caveats in the documentation: http://pandas.pydata.org/pandas-docs/stable/indexing.html#indexing-view-versus-copy\n"
     ]
    },
    {
     "data": {
      "image/png": "[encoded data removed]",
      "text/plain": [
       "<matplotlib.figure.Figure at 0x18e749e8>"
      ]
     },
     "metadata": {},
     "output_type": "display_data"
    }
   ],
   "source": [
    "fig,ax = plt.subplots(2,2)\n",
    "for n,tag in enumerate(['cooking','travel','diy','robotics']):\n",
    "    df = pd.read_csv('./data/{}.csv'.format(tag))\n",
    "    data = format_dataframe(df.head(500))\n",
    "    word_lengths = np.unique(data['word_length'].values)\n",
    "    no_tagged = data.groupby('word_length').tagged.sum()\n",
    "    no_total = data.groupby('word_length').tagged.count()\n",
    "    column = n%2\n",
    "    row = n/2\n",
    "    ax[row][column].bar(word_lengths[:15],(no_tagged/no_total)[:15])\n",
    "    ax[row][column].set_title(tag)\n",
    "    ax[row][column].set_xlabel('word length')\n",
    "    ax[row][column].set_ylabel('prob. tagged given length')\n",
    "fig.subplots_adjust(top = 1.5,right=1.5,hspace=.4)\n",
    "plt.show()"
   ]
  },
  {
   "cell_type": "markdown",
   "metadata": {},
   "source": [
    "At this point we will need to analyze more then one formatted dataframe, so we will create and save these now.   "
   ]
  },
  {
   "cell_type": "code",
   "execution_count": 12,
   "metadata": {
    "collapsed": true
   },
   "outputs": [],
   "source": [
    "for term in ['cooking','travel','robotics','diy']:\n",
    "    df = pd.read_csv('./data/{}.csv'.format(term))\n",
    "    data = format_dataframe(df)\n",
    "    data.to_csv('./data/data_{}.csv'.format(term),encoding='utf-8',index=False)"
   ]
  },
  {
   "cell_type": "markdown",
   "metadata": {},
   "source": [
    "#### Part of Speech <a id='3.3'></a>\n",
    "\n",
    "There are several parts of speech, however we can see that if a word is tagged NN, then it is much more likely to be a tagged word.   The next most likely categories are NNS, JJ, VB, and VBG.   "
   ]
  },
  {
   "cell_type": "code",
   "execution_count": 13,
   "metadata": {
    "scrolled": false
   },
   "outputs": [
    {
     "data": {
      "image/png": "[encoded data removed]",
      "text/plain": [
       "<matplotlib.figure.Figure at 0x21893240>"
      ]
     },
     "metadata": {},
     "output_type": "display_data"
    }
   ],
   "source": [
    "fig,axis = plt.subplots(2,2)\n",
    "for ix,term in enumerate(['cooking','travel','robotics','diy']):\n",
    "    data = pd.read_csv('./data/data_{}.csv'.format(term))\n",
    "    tagged_pos = data[data['tagged']].groupby('pos')['tagged'].count()\n",
    "    tagged_pos = 1.*tagged_pos/tagged_pos.sum()\n",
    "    untagged_pos = data[~data.tagged].groupby('pos')['tagged'].count()\n",
    "    untagged_pos = 1.*untagged_pos/untagged_pos.sum()\n",
    "    a = pd.DataFrame([tagged_pos,untagged_pos]).transpose()\n",
    "    a.columns=['tagged','untagged']\n",
    "    a.fillna(0,inplace=True)\n",
    "    a.sort_values('tagged',inplace=True,ascending=False)\n",
    "    row = ix/2\n",
    "    column = ix%2\n",
    "    a[:15].plot(kind='bar',ax=axis[row][column])\n",
    "    axis[row][column].set_xlabel('pos')\n",
    "    axis[row][column].set_ylabel('per. of words')\n",
    "    axis[row][column].set_title(term)\n",
    "fig.subplots_adjust(top=1.5,right=1.5,hspace=.4)\n",
    "plt.show()"
   ]
  },
  {
   "cell_type": "markdown",
   "metadata": {},
   "source": [
    "This suggests to us that we should use the part of speech as a predictive measure.  To show this more clearly, lets look at the probability that a word will be tagged given that it is a noun, a verb, etc.   Of course if a part of speech only occurs one time, then it won't be useful to pay attention to its probability, so lets make the cutoff that the type of word has to occur more then 1% of the time.  \n",
    "\n",
    "The graphs illustrate that across all subjects, NN and NNS labled words are the most likely to be tagged.   "
   ]
  },
  {
   "cell_type": "code",
   "execution_count": 14,
   "metadata": {},
   "outputs": [
    {
     "data": {
      "image/png": "[encoded data removed]",
      "text/plain": [
       "<matplotlib.figure.Figure at 0x1ba760f0>"
      ]
     },
     "metadata": {},
     "output_type": "display_data"
    }
   ],
   "source": [
    "fig,axis = plt.subplots(2,2)\n",
    "for ix,term in enumerate(['cooking','travel','robotics','diy']):\n",
    "    data = pd.read_csv('./data/data_{}.csv'.format(term))\n",
    "    data_grouped = data.groupby('pos')['tagged']\n",
    "    grt = (1.*data_grouped.count())/(data_grouped.count().sum())>.01\n",
    "    prob_tagged_pos = data_grouped.mean()[grt].sort_values(ascending=False)\n",
    "    row = ix/2\n",
    "    column = ix%2\n",
    "    prob_tagged_pos[:15].plot(kind='bar',ax=axis[row][column])\n",
    "    axis[row][column].set_xlabel('pos')\n",
    "    axis[row][column].set_ylabel('prob tagged given pos')\n",
    "    axis[row][column].set_title(term)\n",
    "fig.subplots_adjust(top=1.5,right=1.5,hspace=.4)\n",
    "plt.show()"
   ]
  },
  {
   "cell_type": "markdown",
   "metadata": {},
   "source": [
    "## Building the model <a id='4'></a>\n",
    "\n",
    "Now that we have came up with a useful list of features, its time to build a model.  The end goal is not only to be able to train and predict tags within one dataset, but it is instead to be able to train the model on one dataset, such as cooking stack exchange questions, and then use it to predict tags from physics stack exchange questions.\n",
    "\n",
    "Because this is a complicated task, I will first construct some models for predicting the tags within a specific dataset, then apply these models across datasets.   "
   ]
  },
  {
   "cell_type": "markdown",
   "metadata": {},
   "source": [
    "#### SVM classifiers <a id='4.1'></a>\n",
    "\n",
    "A support vector machine attempts to classify data by creating a hyperplane which seperates both classes.   The hyperplane is chosen so that as many points as possible lie in the right side, and that there is a large margin around the hyperplane where the points aren't close.   Although the first SVM was linear, SVM's can be used as non-linear classifiers by first mapping the data to a higher dimensional space where it can be linearly seperated, and then creating a hyperplane which lies between them.  This turns out not to be as computational expensive via the kernel trick.   \n",
    "\n",
    "Since we saw before that our data wasn't linearly seperable, we can use the non-linear kernels.   Also since most of the words are not-tagged, we wan't to weight the points which are tagged more heavily (since the model will tend towards predicting that nothing is tagged which has a 95% accuracy).   \n",
    "\n",
    "We will also need to deal with the word types.   Fortunately, we can see that the amount of word types used in tags is relatively small, and we could seperate these out into seperate features to use with one hot encoding.  However, if we do this, then the model is unlikely to be able to predict tags in different subjects since the word type distibution for tagged words varies between tags.  Instead, I will seperate the words out into three categories, one for words labeled NN, one for JJ,NNS,VB,VBP, VBG, VBN, VBZ, or VBD, and one for all other tags.   "
   ]
  },
  {
   "cell_type": "code",
   "execution_count": 15,
   "metadata": {},
   "outputs": [
    {
     "name": "stdout",
     "output_type": "stream",
     "text": [
      "{'kernel': 'rbf', 'C': 0.03125, 'gamma': 0.001953125, 'class_weight': 'balanced'}\n",
      "0.267702226851\n",
      "0.308869351484\n"
     ]
    },
    {
     "data": {
      "text/plain": [
       "{'C': 0.03125,\n",
       " 'class_weight': 'balanced',\n",
       " 'gamma': 0.0009765625,\n",
       " 'kernel': 'rbf'}"
      ]
     },
     "execution_count": 15,
     "metadata": {},
     "output_type": "execute_result"
    }
   ],
   "source": [
    "from sklearn.svm import SVC\n",
    "from sklearn.model_selection import GridSearchCV\n",
    "from sklearn.preprocessing import StandardScaler\n",
    "from sklearn.preprocessing import OneHotEncoder\n",
    "data = pd.read_csv('./data/data_travel.csv')\n",
    "data['pos'] = data['pos'].map(lambda x: 1 if x=='NN' else 2 if x in {'JJ','NNS','VB',\\\n",
    "                                                 'VBP','VBG','VBN','VB','VBD'} else 0)\n",
    "\n",
    "svm = SVC()\n",
    "course_params = {'kernel':['rbf'],'C':[2**x for x in range(-5,16,2)],'gamma':[2**x for x in range(-15,4,2)],\n",
    "                 'class_weight':['balanced']}\n",
    "data[data.columns.difference({'term','tagged','total_terms','original_index'})].values[:5,4]\n",
    "ohe = OneHotEncoder(categorical_features=[4])\n",
    "X = ohe.fit_transform(data[data.columns.difference({'term','tagged','total_terms','original_index'})].values[:2000,:])\n",
    "y = data.tagged[:2000]\n",
    "ss = StandardScaler()\n",
    "X = ss.fit_transform(X.toarray())\n",
    "gs = GridSearchCV(svm,course_params,scoring='f1',n_jobs=-1,cv=5)\n",
    "gs.fit(X,y)\n",
    "print gs.best_params_\n",
    "print gs.best_score_\n",
    "fine_parameters = {'kernel':['rbf'],'C':[gs.best_params_['C']*(2**x) for x in np.arange(-1.5,1.75,.25)],\n",
    "                   'gamma':[gs.best_params_['gamma']*(2**x) for x in np.arange(-1.5,1.75,.25)],\n",
    "                   'class_weight':['balanced']}\n",
    "gs = GridSearchCV(svm,fine_parameters,scoring='f1',n_jobs=-1,cv=5)\n",
    "gs.fit(X,y)\n",
    "print gs.best_score_\n",
    "gs.best_params_"
   ]
  },
  {
   "cell_type": "markdown",
   "metadata": {},
   "source": [
    "We can try this on several datasets, and apply the classifiers from each dataset to the other datasets"
   ]
  },
  {
   "cell_type": "code",
   "execution_count": 16,
   "metadata": {
    "scrolled": false
   },
   "outputs": [
    {
     "name": "stdout",
     "output_type": "stream",
     "text": [
      "cooking\n",
      "0.269825084997\n",
      "{'kernel': 'rbf', 'C': 0.25, 'gamma': 3.0517578125e-05, 'class_weight': 'balanced'}\n",
      "travel\n",
      "0.211490400852\n",
      "{'kernel': 'rbf', 'C': 0.21022410381342863, 'gamma': 4.3158372875155492e-05, 'class_weight': 'balanced'}\n",
      "robotics\n",
      "0.147882574397\n",
      "{'kernel': 'rbf', 'C': 0.011048543456039806, 'gamma': 0.0009765625, 'class_weight': 'balanced'}\n",
      "diy\n",
      "0.155455023092\n",
      "{'kernel': 'rbf', 'C': 0.21022410381342863, 'gamma': 4.3158372875155492e-05, 'class_weight': 'balanced'}\n",
      "f1 scores for estimators trained on each of the four datasets (rows), tested on each of the four datasets (columns)\n"
     ]
    },
    {
     "data": {
      "image/png": "[encoded data removed]",
      "text/plain": [
       "<matplotlib.figure.Figure at 0x16cbb240>"
      ]
     },
     "metadata": {},
     "output_type": "display_data"
    }
   ],
   "source": [
    "from sklearn.model_selection import train_test_split\n",
    "from sklearn.metrics import f1_score\n",
    "import itertools\n",
    "results = []\n",
    "svm_estimators = []\n",
    "test_X=[]\n",
    "test_y=[]\n",
    "ohe = OneHotEncoder(categorical_features=[4])\n",
    "course_params = {'kernel':['rbf'],'C':[2**x for x in range(-5,16,2)],'gamma':[2**x for x in range(-15,4,2)],\n",
    "                 'class_weight':['balanced']}\n",
    "for subject in ['cooking','travel','robotics','diy']:\n",
    "    data = pd.read_csv('./data/data_{}.csv'.format(subject))\n",
    "    data['pos'] = data['pos'].map(lambda x: 1 if x=='NN' else 2 if x in {'JJ','NNS','VB',\\\n",
    "                                                 'VBP','VBG','VBN','VB','VBD'} else 0)\n",
    "    X = ohe.fit_transform(data[data.columns.difference({'term','tagged','total_terms','original_index'})].values)\n",
    "    y = data.tagged\n",
    "    ss = StandardScaler()\n",
    "    X = ss.fit_transform(X.toarray())\n",
    "    X_train,X_test,y_train,y_test = train_test_split(X,y)\n",
    "    gs = GridSearchCV(svm,course_params,scoring='f1',n_jobs=-1,cv=5)\n",
    "    gs.fit(X_train[:5000],y_train[:5000])\n",
    "    fine_parameters = {'kernel':['rbf'],'C':[gs.best_params_['C']*(2**x) for x in np.arange(-1.5,1.75,.25)],\n",
    "                   'gamma':[gs.best_params_['gamma']*(2**x) for x in np.arange(-1.5,1.75,.25)],\n",
    "                   'class_weight':['balanced']}\n",
    "    gs = GridSearchCV(svm,fine_parameters,scoring='f1',n_jobs=-1,cv=5)\n",
    "    gs.fit(X_train[:5000],y_train[:5000])\n",
    "    svm_estimators.append(gs.best_estimator_)\n",
    "    print subject\n",
    "    print gs.best_score_\n",
    "    print gs.best_params_\n",
    "    test_X.append(X_test[:5000]) \n",
    "    test_y.append(y_test[:5000])\n",
    "print \"f1 scores for estimators trained on each of the four datasets (rows), tested on each of the four datasets (columns)\"\n",
    "matrix = np.array([[f1_score(y,est.predict(X)) for X,y in zip(test_X,test_y)] for est in svm_estimators])\n",
    "classes = ['cooking','travel','robotics','diy']\n",
    "plt.imshow(matrix,interpolation='nearest',cmap=plt.cm.cool)\n",
    "tick_marks = np.arange(4)\n",
    "plt.xticks(tick_marks,classes)\n",
    "plt.yticks(tick_marks,classes)\n",
    "for i,j in itertools.product(range(4),range(4)):\n",
    "    plt.text(j,i,'{:.2f}'.format(matrix[i,j]),horizontalalignment='center',color='black')\n",
    "plt.tight_layout()\n",
    "plt.ylabel('trained on')\n",
    "plt.xlabel('evaluated on')\n",
    "plt.title('f1 scores for SVM')\n",
    "plt.show()"
   ]
  },
  {
   "cell_type": "markdown",
   "metadata": {},
   "source": [
    "This works, however we might be interested in seeing if bagging can improve the results.  Bagging involves training different classifiers on subsets of the data.   The final prediction is then done by a majority vote by all of the classifiers.   We will also try restricting the number of features as a parameter in our grid search.  Finally, to speed up the calculation, we will pick the best values of C and gamma from our last search as our values of C and gamma. "
   ]
  },
  {
   "cell_type": "code",
   "execution_count": 17,
   "metadata": {
    "scrolled": false
   },
   "outputs": [
    {
     "name": "stdout",
     "output_type": "stream",
     "text": [
      "cooking\n",
      "0.224497519506\n",
      "{'max_features': 0.6}\n",
      "travel\n",
      "0.120789121128\n",
      "{'max_features': 0.8}\n",
      "robotics\n",
      "0.0960779990447\n",
      "{'max_features': 0.6}\n",
      "diy\n",
      "0.12809828416\n",
      "{'max_features': 0.8}\n",
      "f1 scores for estimators trained on each of the four datasets (rows), tested on each of the four datasets (columns)\n"
     ]
    },
    {
     "data": {
      "image/png": "[encoded data removed]",
      "text/plain": [
       "<matplotlib.figure.Figure at 0x219693c8>"
      ]
     },
     "metadata": {},
     "output_type": "display_data"
    }
   ],
   "source": [
    "from sklearn.ensemble import BaggingClassifier\n",
    "svm = SVC(C=0.044194173824159223,gamma=0.044194173824159223,kernel='rbf',class_weight='balanced')\n",
    "bc = BaggingClassifier(svm,n_estimators=10,max_samples = 1000)\n",
    "results = []\n",
    "bagging_estimators = []\n",
    "test_X = []\n",
    "test_y = []\n",
    "ohe = OneHotEncoder(categorical_features=[4])\n",
    "params = {'max_features':[.4,.6,.8]}\n",
    "for subject in ['cooking','travel','robotics','diy']:\n",
    "    data = pd.read_csv('./data/data_{}.csv'.format(subject))\n",
    "    data['pos'] = data['pos'].map(lambda x: 1 if x=='NN' else 2 if x in {'JJ','NNS','VB',\\\n",
    "                                                 'VBP','VBG','VBN','VB','VBD'} else 0)\n",
    "    X = ohe.fit_transform(data[data.columns.difference({'term','tagged','total_terms','original_index'})].values)\n",
    "    y = data.tagged\n",
    "    ss = StandardScaler()\n",
    "    X = ss.fit_transform(X.toarray())\n",
    "    X_train,X_test,y_train,y_test = train_test_split(X,y)\n",
    "    gs = GridSearchCV(bc,params,scoring='f1',n_jobs=-1,cv=5)\n",
    "    gs.fit(X_train[:5000],y_train[:5000])\n",
    "    bagging_estimators.append(gs.best_estimator_)\n",
    "    print subject\n",
    "    print gs.best_score_\n",
    "    print gs.best_params_\n",
    "    test_X.append(X_test[:5000]) \n",
    "    test_y.append(y_test[:5000])\n",
    "print \"f1 scores for estimators trained on each of the four datasets (rows), tested on each of the four datasets (columns)\"\n",
    "matrix = np.array([[f1_score(y,est.predict(X)) for X,y in zip(test_X,test_y)] for est in bagging_estimators])\n",
    "classes = ['cooking','travel','robotics','diy']\n",
    "plt.imshow(matrix,interpolation='nearest',cmap=plt.cm.cool)\n",
    "tick_marks = np.arange(4)\n",
    "plt.xticks(tick_marks,classes)\n",
    "plt.yticks(tick_marks,classes)\n",
    "for i,j in itertools.product(range(4),range(4)):\n",
    "    plt.text(j,i,'{:.2f}'.format(matrix[i,j]),horizontalalignment='center',color='black')\n",
    "plt.tight_layout()\n",
    "plt.ylabel('trained on')\n",
    "plt.xlabel('evaluated on')\n",
    "plt.title('f1 scores')\n",
    "plt.show()"
   ]
  },
  {
   "cell_type": "markdown",
   "metadata": {},
   "source": [
    "We can see that this doesn't provide that much benifit in accurate scores, however, timewise, this method ends up being much faster then the previous methods.  "
   ]
  },
  {
   "cell_type": "markdown",
   "metadata": {},
   "source": [
    "### Stochastic Gradient descent with kernel approximation <a id='4.2'></a>\n",
    "\n",
    "The previous method gave good results, however, we might wan't to train our classifier using all of the dataset.  To do this, we need to use stochastic gradient descent.  Although this is usually used for fitting linear methods, we can use a the sklearn kernel approximator to map the data into a higher dimensional space before feeding it into our classifier.   The mapping tries to approximate the mapping of the rbf kernel.   "
   ]
  },
  {
   "cell_type": "code",
   "execution_count": 23,
   "metadata": {},
   "outputs": [
    {
     "name": "stdout",
     "output_type": "stream",
     "text": [
      "cooking\n",
      "0.254782126931\n",
      "{'clf__class_weight': 'balanced', 'rbf__gamma': 0.0032847516220848223, 'clf__alpha': 0.022097086912079612}\n",
      "travel\n",
      "0.164847047504\n",
      "{'clf__class_weight': 'balanced', 'rbf__gamma': 0.00069053396600248786, 'clf__alpha': 7.2583442077802797e-05}\n",
      "robotics\n",
      "0.174772685536\n",
      "{'clf__class_weight': 'balanced', 'rbf__gamma': 0.00069053396600248786, 'clf__alpha': 0.00034526698300124393}\n",
      "diy\n",
      "0.197326007326\n",
      "{'clf__class_weight': 'balanced', 'rbf__gamma': 0.0011613350732448448, 'clf__alpha': 0.00058066753662242238}\n",
      "f1 scores for estimators trained on each of the four datasets (rows), tested on each of the four datasets (columns)\n"
     ]
    },
    {
     "data": {
      "image/png": "[encoded data removed]",
      "text/plain": [
       "<matplotlib.figure.Figure at 0x1847c160>"
      ]
     },
     "metadata": {},
     "output_type": "display_data"
    }
   ],
   "source": [
    "from sklearn.pipeline import Pipeline\n",
    "from sklearn.kernel_approximation import RBFSampler\n",
    "from sklearn.linear_model import SGDClassifier\n",
    "from sklearn.model_selection import train_test_split\n",
    "rbf_feature = RBFSampler()\n",
    "clf = SGDClassifier()\n",
    "results = []\n",
    "sgd_estimators = []\n",
    "test_X = []\n",
    "test_y = []\n",
    "pipe = Pipeline([('rbf',RBFSampler()),('clf',SGDClassifier())])\n",
    "param_grid = {'rbf__gamma':[2**x for x in range(-15,4,2)],'clf__alpha':[2**x for x in range(-16,5,2)],\n",
    "             'clf__class_weight':['balanced']}\n",
    "for subject in ['cooking','travel','robotics','diy']:\n",
    "    data = pd.read_csv('./data/data_{}.csv'.format(subject))\n",
    "    data['pos'] = data['pos'].map(lambda x: 1 if x=='NN' else 2 if x in {'JJ','NNS','VB',\\\n",
    "                                                 'VBP','VBG','VBN','VB','VBD'} else 0)\n",
    "    X = ohe.fit_transform(data[data.columns.difference({'term','tagged','total_terms','original_index'})].values)\n",
    "    y = data.tagged\n",
    "    ss = StandardScaler()\n",
    "    X = ss.fit_transform(X.toarray())\n",
    "    X_train,X_test,y_train,y_test = train_test_split(X,y)\n",
    "    gs = GridSearchCV(pipe,param_grid,scoring='f1',n_jobs=-1,cv=5)\n",
    "    gs.fit(X_train[:5000],y_train[:5000])\n",
    "    fine_parameters = {'clf__alpha':[gs.best_params_['clf__alpha']*(2**x) for x in np.arange(-1.5,1.75,.25)],\n",
    "                    'rbf__gamma':[gs.best_params_['rbf__gamma']*(2**x) for x in np.arange(-1.5,1.75,.25)],\n",
    "                    'clf__class_weight':['balanced']}\n",
    "    gs = GridSearchCV(pipe,fine_parameters,scoring='f1',n_jobs=-1,cv=5)\n",
    "    gs.fit(X_train[:5000],y_train[:5000])\n",
    "    test_X.append(X_test[:5000]) \n",
    "    test_y.append(y_test[:5000])\n",
    "    print subject\n",
    "    print gs.best_score_\n",
    "    print gs.best_params_\n",
    "    sgd_estimators.append(gs.best_estimator_)\n",
    "print \"f1 scores for estimators trained on each of the four datasets (rows), tested on each of the four datasets (columns)\"\n",
    "matrix = np.array([[f1_score(y,est.predict(X)) for X,y in zip(test_X,test_y)] for est in sgd_estimators])\n",
    "classes = ['cooking','travel','robotics','diy']\n",
    "plt.imshow(matrix,interpolation='nearest',cmap=plt.cm.cool)\n",
    "tick_marks = np.arange(4)\n",
    "plt.xticks(tick_marks,classes)\n",
    "plt.yticks(tick_marks,classes)\n",
    "for i,j in itertools.product(range(4),range(4)):\n",
    "    plt.text(j,i,'{:.2f}'.format(matrix[i,j]),horizontalalignment='center',color='black')\n",
    "plt.tight_layout()\n",
    "plt.ylabel('trained on')\n",
    "plt.xlabel('evaluated on')\n",
    "plt.title('f1 scores for SGD with rbf-kernel')\n",
    "plt.show()"
   ]
  },
  {
   "cell_type": "markdown",
   "metadata": {},
   "source": [
    "We can see that although thsi runs much faster then the SVM, it does not preform nearly as well.  "
   ]
  },
  {
   "cell_type": "markdown",
   "metadata": {},
   "source": [
    "### Random Forest Classifier <a id='4.3'></a>\n",
    "\n",
    "Another good classifier to fit would be the random forest classifier.   These tend to be computationally fast, and can easily fit non-linear problems.   "
   ]
  },
  {
   "cell_type": "code",
   "execution_count": 22,
   "metadata": {
    "scrolled": false
   },
   "outputs": [
    {
     "name": "stdout",
     "output_type": "stream",
     "text": [
      "cooking\n",
      "0.261210199718\n",
      "{'max_features': 0.8, 'n_estimators': 100, 'min_samples_leaf': 10, 'class_weight': 'balanced'}\n",
      "travel\n",
      "0.25853514661\n",
      "{'max_features': 0.4, 'n_estimators': 100, 'min_samples_leaf': 10, 'class_weight': 'balanced'}\n",
      "robotics\n",
      "0.18737478029\n",
      "{'max_features': 0.2, 'n_estimators': 100, 'min_samples_leaf': 15, 'class_weight': 'balanced'}\n",
      "diy\n",
      "0.24502314213\n",
      "{'max_features': 0.2, 'n_estimators': 100, 'min_samples_leaf': 5, 'class_weight': 'balanced'}\n",
      "f1 scores for estimators trained on each of the four datasets (rows), tested on each of the four datasets (columns)\n"
     ]
    },
    {
     "data": {
      "image/png": "[encoded data removed]",
      "text/plain": [
       "<matplotlib.figure.Figure at 0x1ba76e48>"
      ]
     },
     "metadata": {},
     "output_type": "display_data"
    }
   ],
   "source": [
    "from sklearn.ensemble import RandomForestClassifier\n",
    "results = []\n",
    "rf_estimators = []\n",
    "test_X = []\n",
    "test_y = []\n",
    "rf = RandomForestClassifier()\n",
    "params = {'class_weight':['balanced'],'n_estimators':[100],'min_samples_leaf':[1,5,10,15,20],\n",
    "         'max_features':[.2,.4,.6,.8]}\n",
    "rf.get_params()\n",
    "for subject in ['cooking','travel','robotics','diy']:\n",
    "    data = pd.read_csv('./data/data_{}.csv'.format(subject))\n",
    "    data['pos'] = data['pos'].map(lambda x: 1 if x=='NN' else 2 if x in {'JJ','NNS','VB',\\\n",
    "                                                 'VBP','VBG','VBN','VB','VBD'} else 0)\n",
    "    X = data[data.columns.difference({'term','tagged','total_terms','original_index'})].values\n",
    "    y = data.tagged\n",
    "    X_train,X_test,y_train,y_test = train_test_split(X,y)\n",
    "    gs = GridSearchCV(rf,params,scoring='f1',n_jobs=-1,cv=5)\n",
    "    gs.fit(X_train[:10000],y_train[:10000])\n",
    "    rf_estimators.append(gs.best_estimator_)\n",
    "    print subject\n",
    "    print gs.best_score_\n",
    "    print gs.best_params_\n",
    "    test_X.append(X_test[:10000]) \n",
    "    test_y.append(y_test[:10000])\n",
    "print \"f1 scores for estimators trained on each of the four datasets (rows), tested on each of the four datasets (columns)\"\n",
    "matrix = np.array([[f1_score(y,est.predict(X)) for X,y in zip(test_X,test_y)] for est in rf_estimators])\n",
    "classes = ['cooking','travel','robotics','diy']\n",
    "plt.imshow(matrix,interpolation='nearest',cmap=plt.cm.cool)\n",
    "tick_marks = np.arange(4)\n",
    "plt.xticks(tick_marks,classes)\n",
    "plt.yticks(tick_marks,classes)\n",
    "for i,j in itertools.product(range(4),range(4)):\n",
    "    plt.text(j,i,'{:.2f}'.format(matrix[i,j]),horizontalalignment='center',color='black')\n",
    "plt.tight_layout()\n",
    "plt.ylabel('trained on')\n",
    "plt.xlabel('evaluated on')\n",
    "plt.title('f1 scores for rf classifier')\n",
    "plt.show()"
   ]
  },
  {
   "cell_type": "markdown",
   "metadata": {},
   "source": [
    "As we can see, random forest classifiers perform as well as the SVM classifier, however it takes a fraction of the time to train a random forest classifier as it does an SVM classifier.   We might be interested in increasing the number of estimators in the random forest which almost always makes a model more predictive at the cost of extra computational time.   "
   ]
  },
  {
   "cell_type": "code",
   "execution_count": 24,
   "metadata": {},
   "outputs": [
    {
     "name": "stdout",
     "output_type": "stream",
     "text": [
      "cooking\n",
      "0.309566575745\n",
      "{'max_features': 0.6, 'n_estimators': 200, 'min_samples_leaf': 10, 'class_weight': 'balanced'}\n",
      "travel\n",
      "0.199249098018\n",
      "{'max_features': 0.6, 'n_estimators': 200, 'min_samples_leaf': 20, 'class_weight': 'balanced'}\n",
      "robotics\n",
      "0.218664619214\n",
      "{'max_features': 0.6, 'n_estimators': 200, 'min_samples_leaf': 10, 'class_weight': 'balanced'}\n",
      "diy\n",
      "0.186510988709\n",
      "{'max_features': 0.4, 'n_estimators': 200, 'min_samples_leaf': 10, 'class_weight': 'balanced'}\n",
      "f1 scores for estimators trained on each of the four datasets (rows), tested on each of the four datasets (columns)\n"
     ]
    },
    {
     "data": {
      "image/png": "[encoded data removed]",
      "text/plain": [
       "<matplotlib.figure.Figure at 0x212d4470>"
      ]
     },
     "metadata": {},
     "output_type": "display_data"
    }
   ],
   "source": [
    "from sklearn.ensemble import RandomForestClassifier\n",
    "results = []\n",
    "rf_estimators = []\n",
    "test_X = []\n",
    "test_y = []\n",
    "rf = RandomForestClassifier()\n",
    "params = {'class_weight':['balanced'],'n_estimators':[200],'min_samples_leaf':[1,5,10,15,20],\n",
    "         'max_features':[.2,.4,.6,.8]}\n",
    "rf.get_params()\n",
    "for subject in ['cooking','travel','robotics','diy']:\n",
    "    data = pd.read_csv('./data/data_{}.csv'.format(subject))\n",
    "    data['pos'] = data['pos'].map(lambda x: 1 if x=='NN' else 2 if x in {'JJ','NNS','VB',\\\n",
    "                                                 'VBP','VBG','VBN','VB','VBD'} else 0)\n",
    "    X = data[data.columns.difference({'term','tagged','total_terms','original_index'})].values\n",
    "    y = data.tagged\n",
    "    X_train,X_test,y_train,y_test = train_test_split(X,y)\n",
    "    gs = GridSearchCV(rf,params,scoring='f1',n_jobs=-1,cv=5)\n",
    "    gs.fit(X_train[:10000],y_train[:10000])\n",
    "    rf_estimators.append(gs.best_estimator_)\n",
    "    print subject\n",
    "    print gs.best_score_\n",
    "    print gs.best_params_\n",
    "    test_X.append(X_test[:10000]) \n",
    "    test_y.append(y_test[:10000])\n",
    "print \"f1 scores for estimators trained on each of the four datasets (rows), tested on each of the four datasets (columns)\"\n",
    "matrix = np.array([[f1_score(y,est.predict(X)) for X,y in zip(test_X,test_y)] for est in rf_estimators])\n",
    "classes = ['cooking','travel','robotics','diy']\n",
    "plt.imshow(matrix,interpolation='nearest',cmap=plt.cm.cool)\n",
    "tick_marks = np.arange(4)\n",
    "plt.xticks(tick_marks,classes)\n",
    "plt.yticks(tick_marks,classes)\n",
    "for i,j in itertools.product(range(4),range(4)):\n",
    "    plt.text(j,i,'{:.2f}'.format(matrix[i,j]),horizontalalignment='center',color='black')\n",
    "plt.tight_layout()\n",
    "plt.ylabel('trained on')\n",
    "plt.xlabel('evaluated on')\n",
    "plt.title('f1 scores for rf classifier')\n",
    "plt.show()"
   ]
  },
  {
   "cell_type": "markdown",
   "metadata": {},
   "source": [
    "## Testing the model <a id='5'></a>\n",
    "\n",
    "We can see that the highest scores are achieved by using a random foest classifier, however, when applying this model to unseen datasets, its not obvious which model should be used to predict.  Rather then choosing one classifier to predict the data, we will use all of the classifiers.  There are two ways we can do this, a soft classification, which uses each estimator to find the probabilities of either class membership, and then choosing the highest probability, or we can use a majority voting scheme, where each classifier votes for the label to be either 0 or 1 and the category with the most votes wins.   \n",
    "\n",
    "To test these out, I will download and process four more dataframes and test the models on these datsets.   "
   ]
  },
  {
   "cell_type": "code",
   "execution_count": 55,
   "metadata": {},
   "outputs": [
    {
     "ename": "ValueError",
     "evalue": "Found input variables with inconsistent numbers of samples: [10, 45135]",
     "output_type": "error",
     "traceback": [
      "\u001b[0;31m---------------------------------------------------------------------------\u001b[0m",
      "\u001b[0;31mValueError\u001b[0m                                Traceback (most recent call last)",
      "\u001b[0;32m<ipython-input-55-44a927a1b47a>\u001b[0m in \u001b[0;36m<module>\u001b[0;34m()\u001b[0m\n\u001b[1;32m     17\u001b[0m \u001b[0mX_fitness\u001b[0m \u001b[1;33m=\u001b[0m \u001b[0mdata_fitness\u001b[0m\u001b[1;33m[\u001b[0m\u001b[0mdata_fitness\u001b[0m\u001b[1;33m.\u001b[0m\u001b[0mcolumns\u001b[0m\u001b[1;33m.\u001b[0m\u001b[0mdifference\u001b[0m\u001b[1;33m(\u001b[0m\u001b[1;33m{\u001b[0m\u001b[1;34m'term'\u001b[0m\u001b[1;33m,\u001b[0m\u001b[1;34m'tagged'\u001b[0m\u001b[1;33m,\u001b[0m\u001b[1;34m'total_terms'\u001b[0m\u001b[1;33m,\u001b[0m\u001b[1;34m'original_index'\u001b[0m\u001b[1;33m}\u001b[0m\u001b[1;33m)\u001b[0m\u001b[1;33m]\u001b[0m\u001b[1;33m.\u001b[0m\u001b[0mvalues\u001b[0m\u001b[1;33m\u001b[0m\u001b[0m\n\u001b[1;32m     18\u001b[0m \u001b[0my_fitness\u001b[0m \u001b[1;33m=\u001b[0m \u001b[0mdata_fitness\u001b[0m\u001b[1;33m.\u001b[0m\u001b[0mtagged\u001b[0m\u001b[1;33m\u001b[0m\u001b[0m\n\u001b[0;32m---> 19\u001b[0;31m \u001b[0mf1_music_rf\u001b[0m \u001b[1;33m=\u001b[0m \u001b[0mf1_score\u001b[0m\u001b[1;33m(\u001b[0m\u001b[0mvc_rf\u001b[0m\u001b[1;33m.\u001b[0m\u001b[0mpredict\u001b[0m\u001b[1;33m(\u001b[0m\u001b[0mX_music\u001b[0m\u001b[1;33m)\u001b[0m\u001b[1;33m,\u001b[0m\u001b[0my_music\u001b[0m\u001b[1;33m)\u001b[0m\u001b[1;33m\u001b[0m\u001b[0m\n\u001b[0m\u001b[1;32m     20\u001b[0m \u001b[0mf1_music_svm\u001b[0m \u001b[1;33m=\u001b[0m \u001b[0mf1_score\u001b[0m\u001b[1;33m(\u001b[0m\u001b[0mvc_svm\u001b[0m\u001b[1;33m.\u001b[0m\u001b[0mpredict\u001b[0m\u001b[1;33m(\u001b[0m\u001b[0mX_music\u001b[0m\u001b[1;33m)\u001b[0m\u001b[1;33m,\u001b[0m\u001b[0my_music\u001b[0m\u001b[1;33m)\u001b[0m\u001b[1;33m\u001b[0m\u001b[0m\n\u001b[1;32m     21\u001b[0m \u001b[0mf1_fitness_rf\u001b[0m \u001b[1;33m=\u001b[0m \u001b[0mf1_score\u001b[0m\u001b[1;33m(\u001b[0m\u001b[0mvc_rf\u001b[0m\u001b[1;33m.\u001b[0m\u001b[0mpredict\u001b[0m\u001b[1;33m(\u001b[0m\u001b[0mX_fitness\u001b[0m\u001b[1;33m)\u001b[0m\u001b[1;33m,\u001b[0m\u001b[0my_fitness\u001b[0m\u001b[1;33m)\u001b[0m\u001b[1;33m\u001b[0m\u001b[0m\n",
      "\u001b[0;32mC:\\Users\\Michael\\Anaconda3\\envs\\python_27\\lib\\site-packages\\sklearn\\metrics\\classification.pyc\u001b[0m in \u001b[0;36mf1_score\u001b[0;34m(y_true, y_pred, labels, pos_label, average, sample_weight)\u001b[0m\n\u001b[1;32m    690\u001b[0m     return fbeta_score(y_true, y_pred, 1, labels=labels,\n\u001b[1;32m    691\u001b[0m                        \u001b[0mpos_label\u001b[0m\u001b[1;33m=\u001b[0m\u001b[0mpos_label\u001b[0m\u001b[1;33m,\u001b[0m \u001b[0maverage\u001b[0m\u001b[1;33m=\u001b[0m\u001b[0maverage\u001b[0m\u001b[1;33m,\u001b[0m\u001b[1;33m\u001b[0m\u001b[0m\n\u001b[0;32m--> 692\u001b[0;31m                        sample_weight=sample_weight)\n\u001b[0m\u001b[1;32m    693\u001b[0m \u001b[1;33m\u001b[0m\u001b[0m\n\u001b[1;32m    694\u001b[0m \u001b[1;33m\u001b[0m\u001b[0m\n",
      "\u001b[0;32mC:\\Users\\Michael\\Anaconda3\\envs\\python_27\\lib\\site-packages\\sklearn\\metrics\\classification.pyc\u001b[0m in \u001b[0;36mfbeta_score\u001b[0;34m(y_true, y_pred, beta, labels, pos_label, average, sample_weight)\u001b[0m\n\u001b[1;32m    804\u001b[0m                                                  \u001b[0maverage\u001b[0m\u001b[1;33m=\u001b[0m\u001b[0maverage\u001b[0m\u001b[1;33m,\u001b[0m\u001b[1;33m\u001b[0m\u001b[0m\n\u001b[1;32m    805\u001b[0m                                                  \u001b[0mwarn_for\u001b[0m\u001b[1;33m=\u001b[0m\u001b[1;33m(\u001b[0m\u001b[1;34m'f-score'\u001b[0m\u001b[1;33m,\u001b[0m\u001b[1;33m)\u001b[0m\u001b[1;33m,\u001b[0m\u001b[1;33m\u001b[0m\u001b[0m\n\u001b[0;32m--> 806\u001b[0;31m                                                  sample_weight=sample_weight)\n\u001b[0m\u001b[1;32m    807\u001b[0m     \u001b[1;32mreturn\u001b[0m \u001b[0mf\u001b[0m\u001b[1;33m\u001b[0m\u001b[0m\n\u001b[1;32m    808\u001b[0m \u001b[1;33m\u001b[0m\u001b[0m\n",
      "\u001b[0;32mC:\\Users\\Michael\\Anaconda3\\envs\\python_27\\lib\\site-packages\\sklearn\\metrics\\classification.pyc\u001b[0m in \u001b[0;36mprecision_recall_fscore_support\u001b[0;34m(y_true, y_pred, beta, labels, pos_label, average, warn_for, sample_weight)\u001b[0m\n\u001b[1;32m   1001\u001b[0m         \u001b[1;32mraise\u001b[0m \u001b[0mValueError\u001b[0m\u001b[1;33m(\u001b[0m\u001b[1;34m\"beta should be >0 in the F-beta score\"\u001b[0m\u001b[1;33m)\u001b[0m\u001b[1;33m\u001b[0m\u001b[0m\n\u001b[1;32m   1002\u001b[0m \u001b[1;33m\u001b[0m\u001b[0m\n\u001b[0;32m-> 1003\u001b[0;31m     \u001b[0my_type\u001b[0m\u001b[1;33m,\u001b[0m \u001b[0my_true\u001b[0m\u001b[1;33m,\u001b[0m \u001b[0my_pred\u001b[0m \u001b[1;33m=\u001b[0m \u001b[0m_check_targets\u001b[0m\u001b[1;33m(\u001b[0m\u001b[0my_true\u001b[0m\u001b[1;33m,\u001b[0m \u001b[0my_pred\u001b[0m\u001b[1;33m)\u001b[0m\u001b[1;33m\u001b[0m\u001b[0m\n\u001b[0m\u001b[1;32m   1004\u001b[0m     \u001b[0mpresent_labels\u001b[0m \u001b[1;33m=\u001b[0m \u001b[0munique_labels\u001b[0m\u001b[1;33m(\u001b[0m\u001b[0my_true\u001b[0m\u001b[1;33m,\u001b[0m \u001b[0my_pred\u001b[0m\u001b[1;33m)\u001b[0m\u001b[1;33m\u001b[0m\u001b[0m\n\u001b[1;32m   1005\u001b[0m \u001b[1;33m\u001b[0m\u001b[0m\n",
      "\u001b[0;32mC:\\Users\\Michael\\Anaconda3\\envs\\python_27\\lib\\site-packages\\sklearn\\metrics\\classification.pyc\u001b[0m in \u001b[0;36m_check_targets\u001b[0;34m(y_true, y_pred)\u001b[0m\n\u001b[1;32m     70\u001b[0m     \u001b[0my_pred\u001b[0m \u001b[1;33m:\u001b[0m \u001b[0marray\u001b[0m \u001b[1;32mor\u001b[0m \u001b[0mindicator\u001b[0m \u001b[0mmatrix\u001b[0m\u001b[1;33m\u001b[0m\u001b[0m\n\u001b[1;32m     71\u001b[0m     \"\"\"\n\u001b[0;32m---> 72\u001b[0;31m     \u001b[0mcheck_consistent_length\u001b[0m\u001b[1;33m(\u001b[0m\u001b[0my_true\u001b[0m\u001b[1;33m,\u001b[0m \u001b[0my_pred\u001b[0m\u001b[1;33m)\u001b[0m\u001b[1;33m\u001b[0m\u001b[0m\n\u001b[0m\u001b[1;32m     73\u001b[0m     \u001b[0mtype_true\u001b[0m \u001b[1;33m=\u001b[0m \u001b[0mtype_of_target\u001b[0m\u001b[1;33m(\u001b[0m\u001b[0my_true\u001b[0m\u001b[1;33m)\u001b[0m\u001b[1;33m\u001b[0m\u001b[0m\n\u001b[1;32m     74\u001b[0m     \u001b[0mtype_pred\u001b[0m \u001b[1;33m=\u001b[0m \u001b[0mtype_of_target\u001b[0m\u001b[1;33m(\u001b[0m\u001b[0my_pred\u001b[0m\u001b[1;33m)\u001b[0m\u001b[1;33m\u001b[0m\u001b[0m\n",
      "\u001b[0;32mC:\\Users\\Michael\\Anaconda3\\envs\\python_27\\lib\\site-packages\\sklearn\\utils\\validation.pyc\u001b[0m in \u001b[0;36mcheck_consistent_length\u001b[0;34m(*arrays)\u001b[0m\n\u001b[1;32m    179\u001b[0m     \u001b[1;32mif\u001b[0m \u001b[0mlen\u001b[0m\u001b[1;33m(\u001b[0m\u001b[0muniques\u001b[0m\u001b[1;33m)\u001b[0m \u001b[1;33m>\u001b[0m \u001b[1;36m1\u001b[0m\u001b[1;33m:\u001b[0m\u001b[1;33m\u001b[0m\u001b[0m\n\u001b[1;32m    180\u001b[0m         raise ValueError(\"Found input variables with inconsistent numbers of\"\n\u001b[0;32m--> 181\u001b[0;31m                          \" samples: %r\" % [int(l) for l in lengths])\n\u001b[0m\u001b[1;32m    182\u001b[0m \u001b[1;33m\u001b[0m\u001b[0m\n\u001b[1;32m    183\u001b[0m \u001b[1;33m\u001b[0m\u001b[0m\n",
      "\u001b[0;31mValueError\u001b[0m: Found input variables with inconsistent numbers of samples: [10, 45135]"
     ]
    }
   ],
   "source": [
    "class EnsembleVote(object):\n",
    "    \"\"\" Takes a collection of fitted binary classifiers, and\n",
    "    yields predictions based on the votes of the classifiers.\n",
    "    The types of prediction offered are:\n",
    "    soft: yeilds predictions based off the classifier with \n",
    "          the highest probabilty.\n",
    "    hard: yields predictions based of simple majority vote of \n",
    "          all classifiers\n",
    "          \n",
    "    Parameters:\n",
    "    -------------\n",
    "    estimators: an iterable collection of estimators, each of which \n",
    "                must be fitted prior to adding in, and each of which\n",
    "                must have the method predict if type_==hard, or \n",
    "                predict_proba if type_==soft.\n",
    "    type_:      String, options are soft or hard.\n",
    "    \n",
    "    Attributes:\n",
    "    -------------\n",
    "    estimators: list of classifiers\n",
    "    type_: String, type of classification\n",
    "    \"\"\"\n",
    "    def __init__(self,estimators,type_='hard'):\n",
    "        self.estimators=estimators\n",
    "        if not type in {'hard','soft'}:\n",
    "            raise Exception('Illegal argument')\n",
    "    def predict_soft(self,X):\n",
    "        results = np.hstack([est.predict_proba(X) for est in rf_estimators])\n",
    "        predictions = np.argmax(results,axis=1)%2==1\n",
    "        return predictions.astype(int)\n",
    "    def predict_hard(self,X):\n",
    "        results = np.hstack([est.predict(X)]).mean(axis=1)>=.5\n",
    "        return results.astype(int)\n",
    "    def predict(self,X):\n",
    "        \"\"\"Given an input, finds the predictions of the classifiers,\n",
    "        Parameters:\n",
    "        -------------\n",
    "        X: array-like, shape = n_samples,n_features\n",
    "        \n",
    "        Returns:\n",
    "        -------------\n",
    "        array of predictions.   \n",
    "        \"\"\"\n",
    "        if type=='hard':\n",
    "            return predict_hard(X)\n",
    "        else:\n",
    "            return predict_soft(X)\n",
    "labels = ['cooking','travel','robotics','diy']\n",
    "vc_rf = WeightedVote(rf_estimators)\n",
    "vc_svm = WeightedVote(svm_estimators)\n",
    "data_music = format_dataframe(construct_dataframe('music',1000))\n",
    "data_fitness = format_dataframe(construct_dataframe('fitness',1000))\n",
    "data_music['pos'] = data_music['pos'].map(lambda x: 1 if x=='NN' else 2 if x in {'JJ','NNS','VB',\\\n",
    "                                                 'VBP','VBG','VBN','VB','VBD'} else 0)\n",
    "X_music = data_music[data_music.columns.difference({'term','tagged','total_terms','original_index'})].values\n",
    "y_music = data_music.tagged\n",
    "data_fitness['pos'] = data_fitness['pos'].map(lambda x: 1 if x=='NN' else 2 if x in {'JJ','NNS','VB',\\\n",
    "                                                 'VBP','VBG','VBN','VB','VBD'} else 0)\n",
    "X_fitness = data_fitness[data_fitness.columns.difference({'term','tagged','total_terms','original_index'})].values\n",
    "y_fitness = data_fitness.tagged\n",
    "f1_music_rf = f1_score(vc_rf.predict(X_music),y_music)\n",
    "f1_music_svm = f1_score(vc_svm.predict(X_music),y_music)\n",
    "f1_fitness_rf = f1_score(vc_rf.predict(X_fitness),y_fitness)\n",
    "f1_fitness_svm = f1_score(vc_svm.predict(X_fitness),y_fitness)\n",
    "\n",
    "matrix = np.array([[f1_music_rf,f1_fitness_rf],[f1_music_svm,f1_fitness_svm]])\n",
    "y_labels = ['SVM','RF']\n",
    "x_labels = ['music','fitness']\n",
    "plt.imshow(matrix,interpolation='nearest',cmap=plt.cm.cool)\n",
    "tick_marks = np.arange(4)\n",
    "plt.xticks(tick_marks,x_labels)\n",
    "plt.yticks(tick_marks,y_labels)\n",
    "for i,j in itertools.product(range(2),range(2)):\n",
    "    plt.text(j,i,'{:.2f}'.format(matrix[i,j]),horizontalalignment='center',color='black')\n",
    "plt.tight_layout()\n",
    "plt.ylabel('Classifier')\n",
    "plt.xlabel('test dataset')\n",
    "plt.title('f1 scores for unseen datasets')\n",
    "plt.show()"
   ]
  },
  {
   "cell_type": "code",
   "execution_count": 56,
   "metadata": {},
   "outputs": [
    {
     "name": "stdout",
     "output_type": "stream",
     "text": [
      "0.107899807322 0.110531803962\n"
     ]
    },
    {
     "ename": "NameError",
     "evalue": "name 'f1_music_svm' is not defined",
     "output_type": "error",
     "traceback": [
      "\u001b[0;31m---------------------------------------------------------------------------\u001b[0m",
      "\u001b[0;31mNameError\u001b[0m                                 Traceback (most recent call last)",
      "\u001b[0;32m<ipython-input-56-47c64348c702>\u001b[0m in \u001b[0;36m<module>\u001b[0;34m()\u001b[0m\n\u001b[1;32m     18\u001b[0m \u001b[1;32mprint\u001b[0m \u001b[0mf1_music_rf\u001b[0m\u001b[1;33m,\u001b[0m\u001b[0mf1_fitness_rf\u001b[0m\u001b[1;33m\u001b[0m\u001b[0m\n\u001b[1;32m     19\u001b[0m \u001b[1;33m\u001b[0m\u001b[0m\n\u001b[0;32m---> 20\u001b[0;31m \u001b[0mmatrix\u001b[0m \u001b[1;33m=\u001b[0m \u001b[0mnp\u001b[0m\u001b[1;33m.\u001b[0m\u001b[0marray\u001b[0m\u001b[1;33m(\u001b[0m\u001b[1;33m[\u001b[0m\u001b[1;33m[\u001b[0m\u001b[0mf1_music_rf\u001b[0m\u001b[1;33m,\u001b[0m\u001b[0mf1_fitness_rf\u001b[0m\u001b[1;33m]\u001b[0m\u001b[1;33m,\u001b[0m\u001b[1;33m[\u001b[0m\u001b[0mf1_music_svm\u001b[0m\u001b[1;33m,\u001b[0m\u001b[0mf1_fitness_svm\u001b[0m\u001b[1;33m]\u001b[0m\u001b[1;33m]\u001b[0m\u001b[1;33m)\u001b[0m\u001b[1;33m\u001b[0m\u001b[0m\n\u001b[0m\u001b[1;32m     21\u001b[0m \u001b[0my_labels\u001b[0m \u001b[1;33m=\u001b[0m \u001b[1;33m[\u001b[0m\u001b[1;34m'SVM'\u001b[0m\u001b[1;33m,\u001b[0m\u001b[1;34m'RF'\u001b[0m\u001b[1;33m]\u001b[0m\u001b[1;33m\u001b[0m\u001b[0m\n\u001b[1;32m     22\u001b[0m \u001b[0mx_labels\u001b[0m \u001b[1;33m=\u001b[0m \u001b[1;33m[\u001b[0m\u001b[1;34m'music'\u001b[0m\u001b[1;33m,\u001b[0m\u001b[1;34m'fitness'\u001b[0m\u001b[1;33m]\u001b[0m\u001b[1;33m\u001b[0m\u001b[0m\n",
      "\u001b[0;31mNameError\u001b[0m: name 'f1_music_svm' is not defined"
     ]
    }
   ],
   "source": [
    "X_music = data_music[data_music.columns.difference({'term','tagged','total_terms','original_index'})].values\n",
    "y_music = data_music.tagged\n",
    "X_fitness = data_fitness[data_fitness.columns.difference({'term','tagged','total_terms','original_index'})].values\n",
    "y_fitness = data_fitness.tagged\n",
    "class WeightedVote(object):\n",
    "    def __init__(self,estimators):\n",
    "        self.estimators=estimators\n",
    "    def predict(self,X):\n",
    "        results = np.hstack([est.predict_proba(X) for est in self.estimators])\n",
    "        predictions = np.argmax(results,axis=1)%2==1\n",
    "        return predictions.astype(int)\n",
    "vc_rf = WeightedVote(rf_estimators)\n",
    "vc_svm = WeightedVote(svm_estimators)\n",
    "f1_music_rf = f1_score(vc_rf.predict(X_music),y_music)\n",
    "#f1_music_svm = f1_score(vc_svm.predict(X_music),y_music)\n",
    "f1_fitness_rf = f1_score(vc_rf.predict(X_fitness),y_fitness)\n",
    "#f1_fitness_svm = f1_score(vc_svm.predict(X_fitness),y_fitness)\n",
    "print f1_music_rf,f1_fitness_rf\n",
    "\n",
    "matrix = np.array([[f1_music_rf,f1_fitness_rf],[f1_music_svm,f1_fitness_svm]])\n",
    "y_labels = ['SVM','RF']\n",
    "x_labels = ['music','fitness']\n",
    "plt.imshow(matrix,interpolation='nearest',cmap=plt.cm.cool)\n",
    "tick_marks = np.arange(4)\n",
    "plt.xticks(tick_marks,x_labels)\n",
    "plt.yticks(tick_marks,y_labels)\n",
    "for i,j in itertools.product(range(2),range(2)):\n",
    "    plt.text(j,i,'{:.2f}'.format(matrix[i,j]),horizontalalignment='center',color='black')\n",
    "plt.tight_layout()\n",
    "plt.ylabel('Classifier')\n",
    "plt.xlabel('test dataset')\n",
    "plt.title('f1 scores for unseen datasets')\n",
    "plt.show()"
   ]
  },
  {
   "cell_type": "code",
   "execution_count": 59,
   "metadata": {},
   "outputs": [
    {
     "name": "stdout",
     "output_type": "stream",
     "text": [
      "0.126450116009 0.17704011065\n",
      "0.123264476803 0.177962577963\n",
      "0.0660194174757 0.0725075528701\n",
      "0.123867069486 0.153469387755\n"
     ]
    }
   ],
   "source": [
    "for est in rf_estimators:\n",
    "    f1_music_rf = f1_score(est.predict(X_music),y_music)\n",
    "    #f1_music_svm = f1_score(vc_svm.predict(X_music),y_music)\n",
    "    f1_fitness_rf = f1_score(est.predict(X_fitness),y_fitness)\n",
    "    #f1_fitness_svm = f1_score(vc_svm.predict(X_fitness),y_fitness)\n",
    "    print f1_music_rf,f1_fitness_rf"
   ]
  },
  {
   "cell_type": "code",
   "execution_count": 48,
   "metadata": {},
   "outputs": [
    {
     "data": {
      "text/plain": [
       "array([[ 1.        ,  0.        ,  0.99236348,  0.00763652,  0.70357773,\n",
       "         0.29642227,  0.99134041,  0.00865959],\n",
       "       [ 1.        ,  0.        ,  1.        ,  0.        ,  1.        ,\n",
       "         0.        ,  1.        ,  0.        ],\n",
       "       [ 0.99619301,  0.00380699,  1.        ,  0.        ,  0.99087125,\n",
       "         0.00912875,  1.        ,  0.        ],\n",
       "       [ 1.        ,  0.        ,  1.        ,  0.        ,  1.        ,\n",
       "         0.        ,  1.        ,  0.        ],\n",
       "       [ 1.        ,  0.        ,  0.9964798 ,  0.0035202 ,  0.95907436,\n",
       "         0.04092564,  1.        ,  0.        ],\n",
       "       [ 0.69817877,  0.30182123,  0.70548367,  0.29451633,  0.58741424,\n",
       "         0.41258576,  0.61394106,  0.38605894],\n",
       "       [ 0.30889653,  0.69110347,  0.13285425,  0.86714575,  0.43169325,\n",
       "         0.56830675,  0.25853242,  0.74146758],\n",
       "       [ 1.        ,  0.        ,  1.        ,  0.        ,  0.98641768,\n",
       "         0.01358232,  1.        ,  0.        ],\n",
       "       [ 0.90885885,  0.09114115,  0.62356074,  0.37643926,  0.98624933,\n",
       "         0.01375067,  0.98685341,  0.01314659],\n",
       "       [ 1.        ,  0.        ,  1.        ,  0.        ,  1.        ,\n",
       "         0.        ,  1.        ,  0.        ]])"
      ]
     },
     "execution_count": 48,
     "metadata": {},
     "output_type": "execute_result"
    }
   ],
   "source": [
    "results"
   ]
  },
  {
   "cell_type": "code",
   "execution_count": null,
   "metadata": {
    "collapsed": true
   },
   "outputs": [],
   "source": []
  }
 ],
 "metadata": {
  "anaconda-cloud": {},
  "kernelspec": {
   "display_name": "Python [conda env:python_27]",
   "language": "python",
   "name": "conda-env-python_27-py"
  },
  "language_info": {
   "codemirror_mode": {
    "name": "ipython",
    "version": 2
   },
   "file_extension": ".py",
   "mimetype": "text/x-python",
   "name": "python",
   "nbconvert_exporter": "python",
   "pygments_lexer": "ipython2",
   "version": "2.7.13"
  }
 },
 "nbformat": 4,
 "nbformat_minor": 2
}
